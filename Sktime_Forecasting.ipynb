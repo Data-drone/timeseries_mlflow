{
 "cells": [
  {
   "cell_type": "markdown",
   "id": "f2278dd6",
   "metadata": {},
   "source": [
    "# Data Exploration"
   ]
  },
  {
   "cell_type": "code",
   "execution_count": 6,
   "id": "770a1f56",
   "metadata": {},
   "outputs": [
    {
     "name": "stdout",
     "output_type": "stream",
     "text": [
      "time: 48.9 s (started: 2021-08-07 13:38:31 +00:00)\n"
     ]
    }
   ],
   "source": [
    "%run setup.py"
   ]
  },
  {
   "cell_type": "code",
   "execution_count": 7,
   "id": "77e84134",
   "metadata": {},
   "outputs": [
    {
     "data": {
      "text/html": [
       "<div>\n",
       "<style scoped>\n",
       "    .dataframe tbody tr th:only-of-type {\n",
       "        vertical-align: middle;\n",
       "    }\n",
       "\n",
       "    .dataframe tbody tr th {\n",
       "        vertical-align: top;\n",
       "    }\n",
       "\n",
       "    .dataframe thead th {\n",
       "        text-align: right;\n",
       "    }\n",
       "</style>\n",
       "<table border=\"1\" class=\"dataframe\">\n",
       "  <thead>\n",
       "    <tr style=\"text-align: right;\">\n",
       "      <th></th>\n",
       "      <th>pickup_date</th>\n",
       "      <th>total_rides</th>\n",
       "      <th>total_takings</th>\n",
       "    </tr>\n",
       "  </thead>\n",
       "  <tbody>\n",
       "    <tr>\n",
       "      <th>0</th>\n",
       "      <td>2013-08-01</td>\n",
       "      <td>307272</td>\n",
       "      <td>4.567414e+06</td>\n",
       "    </tr>\n",
       "    <tr>\n",
       "      <th>1</th>\n",
       "      <td>2013-08-02</td>\n",
       "      <td>236761</td>\n",
       "      <td>3.534616e+06</td>\n",
       "    </tr>\n",
       "    <tr>\n",
       "      <th>2</th>\n",
       "      <td>2013-08-03</td>\n",
       "      <td>226554</td>\n",
       "      <td>3.182267e+06</td>\n",
       "    </tr>\n",
       "    <tr>\n",
       "      <th>3</th>\n",
       "      <td>2013-08-04</td>\n",
       "      <td>202310</td>\n",
       "      <td>3.073609e+06</td>\n",
       "    </tr>\n",
       "    <tr>\n",
       "      <th>4</th>\n",
       "      <td>2013-08-05</td>\n",
       "      <td>406487</td>\n",
       "      <td>6.657713e+06</td>\n",
       "    </tr>\n",
       "  </tbody>\n",
       "</table>\n",
       "</div>"
      ],
      "text/plain": [
       "  pickup_date  total_rides  total_takings\n",
       "0  2013-08-01       307272   4.567414e+06\n",
       "1  2013-08-02       236761   3.534616e+06\n",
       "2  2013-08-03       226554   3.182267e+06\n",
       "3  2013-08-04       202310   3.073609e+06\n",
       "4  2013-08-05       406487   6.657713e+06"
      ]
     },
     "execution_count": 7,
     "metadata": {},
     "output_type": "execute_result"
    },
    {
     "name": "stdout",
     "output_type": "stream",
     "text": [
      "time: 8.19 ms (started: 2021-08-07 13:39:20 +00:00)\n"
     ]
    }
   ],
   "source": [
    "train.head()"
   ]
  },
  {
   "cell_type": "markdown",
   "id": "c7dbc4d8",
   "metadata": {},
   "source": [
    "## MLFlow Setup"
   ]
  },
  {
   "cell_type": "code",
   "execution_count": 8,
   "id": "63b060c4",
   "metadata": {},
   "outputs": [
    {
     "name": "stdout",
     "output_type": "stream",
     "text": [
      "time: 1.57 s (started: 2021-08-07 13:39:20 +00:00)\n"
     ]
    }
   ],
   "source": [
    "import mlflow"
   ]
  },
  {
   "cell_type": "code",
   "execution_count": 9,
   "id": "0ad430d2",
   "metadata": {},
   "outputs": [
    {
     "name": "stdout",
     "output_type": "stream",
     "text": [
      "Current tracking uri: http://192.168.64.21:5000/\n",
      "time: 460 µs (started: 2021-08-07 13:39:21 +00:00)\n"
     ]
    }
   ],
   "source": [
    "mlflow.set_tracking_uri(\"http://192.168.64.21:5000/\")\n",
    "tracking_uri = mlflow.get_tracking_uri()\n",
    "print(\"Current tracking uri: {}\".format(tracking_uri))"
   ]
  },
  {
   "cell_type": "markdown",
   "id": "081dde93",
   "metadata": {},
   "source": [
    "The taxi_daily_forecast experiment has already been created"
   ]
  },
  {
   "cell_type": "code",
   "execution_count": 85,
   "id": "9c39c965",
   "metadata": {},
   "outputs": [
    {
     "name": "stdout",
     "output_type": "stream",
     "text": [
      "time: 489 µs (started: 2021-08-08 13:57:20 +00:00)\n"
     ]
    }
   ],
   "source": [
    "from sktime.forecasting.model_selection import SlidingWindowSplitter\n",
    "from sktime.forecasting.ets import AutoETS\n",
    "from sktime.forecasting.tbats import TBATS\n",
    "import numpy as np"
   ]
  },
  {
   "cell_type": "code",
   "execution_count": 110,
   "id": "bf4da56e",
   "metadata": {},
   "outputs": [
    {
     "name": "stdout",
     "output_type": "stream",
     "text": [
      "time: 329 µs (started: 2021-08-08 14:59:07 +00:00)\n"
     ]
    }
   ],
   "source": [
    "cv = SlidingWindowSplitter(fh=7, window_length=56, step_length=7)"
   ]
  },
  {
   "cell_type": "code",
   "execution_count": 111,
   "id": "8266c9cd",
   "metadata": {},
   "outputs": [
    {
     "data": {
      "text/plain": [
       "array([ 55,  62,  69,  76,  83,  90,  97, 104, 111, 118, 125, 132, 139,\n",
       "       146, 153, 160, 167, 174, 181, 188, 195, 202, 209, 216, 223, 230,\n",
       "       237, 244, 251, 258, 265, 272, 279, 286, 293, 300, 307, 314, 321,\n",
       "       328, 335, 342, 349, 356, 363, 370, 377, 384, 391, 398, 405, 412,\n",
       "       419, 426, 433, 440, 447, 454, 461, 468, 475, 482, 489, 496, 503,\n",
       "       510, 517, 524, 531, 538, 545, 552, 559, 566, 573, 580, 587, 594,\n",
       "       601, 608, 615, 622, 629, 636, 643, 650, 657, 664, 671, 678, 685,\n",
       "       692, 699, 706, 713, 720])"
      ]
     },
     "execution_count": 111,
     "metadata": {},
     "output_type": "execute_result"
    },
    {
     "name": "stdout",
     "output_type": "stream",
     "text": [
      "time: 2.55 ms (started: 2021-08-08 14:59:08 +00:00)\n"
     ]
    }
   ],
   "source": [
    "# check the split points\n",
    "cv.get_cutoffs(y=train['total_rides'])"
   ]
  },
  {
   "cell_type": "code",
   "execution_count": 112,
   "id": "628e65d6",
   "metadata": {},
   "outputs": [
    {
     "data": {
      "text/plain": [
       "96"
      ]
     },
     "execution_count": 112,
     "metadata": {},
     "output_type": "execute_result"
    },
    {
     "name": "stdout",
     "output_type": "stream",
     "text": [
      "time: 2.05 ms (started: 2021-08-08 14:59:09 +00:00)\n"
     ]
    }
   ],
   "source": [
    "# check the number of splits\n",
    "cv.get_n_splits(y=train['total_rides'])"
   ]
  },
  {
   "cell_type": "markdown",
   "id": "39131165",
   "metadata": {},
   "source": [
    "## Fitting Models"
   ]
  },
  {
   "cell_type": "code",
   "execution_count": 89,
   "id": "3ad0882f",
   "metadata": {},
   "outputs": [
    {
     "name": "stdout",
     "output_type": "stream",
     "text": [
      "time: 288 µs (started: 2021-08-08 13:57:27 +00:00)\n"
     ]
    }
   ],
   "source": [
    "from sktime.forecasting.model_evaluation import evaluate"
   ]
  },
  {
   "cell_type": "code",
   "execution_count": 90,
   "id": "b822a192",
   "metadata": {},
   "outputs": [
    {
     "name": "stdout",
     "output_type": "stream",
     "text": [
      "time: 430 µs (started: 2021-08-08 13:57:30 +00:00)\n"
     ]
    }
   ],
   "source": [
    "#forecaster = AutoETS(auto=True, sp=7, n_jobs=-1)\n",
    "forecaster = TBATS(\n",
    "     use_box_cox=False,\n",
    "     use_trend=False,\n",
    "     use_damped_trend=False,\n",
    "     sp=7,\n",
    "     use_arma_errors=False,\n",
    "     n_jobs=-1)"
   ]
  },
  {
   "cell_type": "code",
   "execution_count": 91,
   "id": "8ddef239",
   "metadata": {
    "collapsed": true,
    "jupyter": {
     "outputs_hidden": true
    }
   },
   "outputs": [
    {
     "name": "stderr",
     "output_type": "stream",
     "text": [
      "/home/jovyan/.local/lib/python3.8/site-packages/sktime/forecasting/base/_base.py:693: UserWarning: NotImplementedWarning: TBATS does not have a custom `update` method implemented. TBATS will be refit each time `update` is called.\n",
      "  warn(\n",
      "/home/jovyan/.local/lib/python3.8/site-packages/sktime/forecasting/base/_base.py:693: UserWarning: NotImplementedWarning: TBATS does not have a custom `update` method implemented. TBATS will be refit each time `update` is called.\n",
      "  warn(\n",
      "/home/jovyan/.local/lib/python3.8/site-packages/sktime/forecasting/base/_base.py:693: UserWarning: NotImplementedWarning: TBATS does not have a custom `update` method implemented. TBATS will be refit each time `update` is called.\n",
      "  warn(\n",
      "/home/jovyan/.local/lib/python3.8/site-packages/sktime/forecasting/base/_base.py:693: UserWarning: NotImplementedWarning: TBATS does not have a custom `update` method implemented. TBATS will be refit each time `update` is called.\n",
      "  warn(\n",
      "/home/jovyan/.local/lib/python3.8/site-packages/sktime/forecasting/base/_base.py:693: UserWarning: NotImplementedWarning: TBATS does not have a custom `update` method implemented. TBATS will be refit each time `update` is called.\n",
      "  warn(\n",
      "/home/jovyan/.local/lib/python3.8/site-packages/sktime/forecasting/base/_base.py:693: UserWarning: NotImplementedWarning: TBATS does not have a custom `update` method implemented. TBATS will be refit each time `update` is called.\n",
      "  warn(\n",
      "/home/jovyan/.local/lib/python3.8/site-packages/sktime/forecasting/base/_base.py:693: UserWarning: NotImplementedWarning: TBATS does not have a custom `update` method implemented. TBATS will be refit each time `update` is called.\n",
      "  warn(\n",
      "/home/jovyan/.local/lib/python3.8/site-packages/sktime/forecasting/base/_base.py:693: UserWarning: NotImplementedWarning: TBATS does not have a custom `update` method implemented. TBATS will be refit each time `update` is called.\n",
      "  warn(\n",
      "/home/jovyan/.local/lib/python3.8/site-packages/sktime/forecasting/base/_base.py:693: UserWarning: NotImplementedWarning: TBATS does not have a custom `update` method implemented. TBATS will be refit each time `update` is called.\n",
      "  warn(\n",
      "/home/jovyan/.local/lib/python3.8/site-packages/sktime/forecasting/base/_base.py:693: UserWarning: NotImplementedWarning: TBATS does not have a custom `update` method implemented. TBATS will be refit each time `update` is called.\n",
      "  warn(\n",
      "/home/jovyan/.local/lib/python3.8/site-packages/sktime/forecasting/base/_base.py:693: UserWarning: NotImplementedWarning: TBATS does not have a custom `update` method implemented. TBATS will be refit each time `update` is called.\n",
      "  warn(\n",
      "/home/jovyan/.local/lib/python3.8/site-packages/sktime/forecasting/base/_base.py:693: UserWarning: NotImplementedWarning: TBATS does not have a custom `update` method implemented. TBATS will be refit each time `update` is called.\n",
      "  warn(\n",
      "/home/jovyan/.local/lib/python3.8/site-packages/sktime/forecasting/base/_base.py:693: UserWarning: NotImplementedWarning: TBATS does not have a custom `update` method implemented. TBATS will be refit each time `update` is called.\n",
      "  warn(\n",
      "/home/jovyan/.local/lib/python3.8/site-packages/sktime/forecasting/base/_base.py:693: UserWarning: NotImplementedWarning: TBATS does not have a custom `update` method implemented. TBATS will be refit each time `update` is called.\n",
      "  warn(\n",
      "/home/jovyan/.local/lib/python3.8/site-packages/sktime/forecasting/base/_base.py:693: UserWarning: NotImplementedWarning: TBATS does not have a custom `update` method implemented. TBATS will be refit each time `update` is called.\n",
      "  warn(\n",
      "/home/jovyan/.local/lib/python3.8/site-packages/sktime/forecasting/base/_base.py:693: UserWarning: NotImplementedWarning: TBATS does not have a custom `update` method implemented. TBATS will be refit each time `update` is called.\n",
      "  warn(\n",
      "/home/jovyan/.local/lib/python3.8/site-packages/sktime/forecasting/base/_base.py:693: UserWarning: NotImplementedWarning: TBATS does not have a custom `update` method implemented. TBATS will be refit each time `update` is called.\n",
      "  warn(\n",
      "/home/jovyan/.local/lib/python3.8/site-packages/sktime/forecasting/base/_base.py:693: UserWarning: NotImplementedWarning: TBATS does not have a custom `update` method implemented. TBATS will be refit each time `update` is called.\n",
      "  warn(\n",
      "/home/jovyan/.local/lib/python3.8/site-packages/sktime/forecasting/base/_base.py:693: UserWarning: NotImplementedWarning: TBATS does not have a custom `update` method implemented. TBATS will be refit each time `update` is called.\n",
      "  warn(\n",
      "/home/jovyan/.local/lib/python3.8/site-packages/sktime/forecasting/base/_base.py:693: UserWarning: NotImplementedWarning: TBATS does not have a custom `update` method implemented. TBATS will be refit each time `update` is called.\n",
      "  warn(\n",
      "/home/jovyan/.local/lib/python3.8/site-packages/sktime/forecasting/base/_base.py:693: UserWarning: NotImplementedWarning: TBATS does not have a custom `update` method implemented. TBATS will be refit each time `update` is called.\n",
      "  warn(\n",
      "/home/jovyan/.local/lib/python3.8/site-packages/sktime/forecasting/base/_base.py:693: UserWarning: NotImplementedWarning: TBATS does not have a custom `update` method implemented. TBATS will be refit each time `update` is called.\n",
      "  warn(\n",
      "/home/jovyan/.local/lib/python3.8/site-packages/sktime/forecasting/base/_base.py:693: UserWarning: NotImplementedWarning: TBATS does not have a custom `update` method implemented. TBATS will be refit each time `update` is called.\n",
      "  warn(\n",
      "/home/jovyan/.local/lib/python3.8/site-packages/sktime/forecasting/base/_base.py:693: UserWarning: NotImplementedWarning: TBATS does not have a custom `update` method implemented. TBATS will be refit each time `update` is called.\n",
      "  warn(\n",
      "/home/jovyan/.local/lib/python3.8/site-packages/sktime/forecasting/base/_base.py:693: UserWarning: NotImplementedWarning: TBATS does not have a custom `update` method implemented. TBATS will be refit each time `update` is called.\n",
      "  warn(\n",
      "/home/jovyan/.local/lib/python3.8/site-packages/sktime/forecasting/base/_base.py:693: UserWarning: NotImplementedWarning: TBATS does not have a custom `update` method implemented. TBATS will be refit each time `update` is called.\n",
      "  warn(\n",
      "/home/jovyan/.local/lib/python3.8/site-packages/sktime/forecasting/base/_base.py:693: UserWarning: NotImplementedWarning: TBATS does not have a custom `update` method implemented. TBATS will be refit each time `update` is called.\n",
      "  warn(\n",
      "/home/jovyan/.local/lib/python3.8/site-packages/sktime/forecasting/base/_base.py:693: UserWarning: NotImplementedWarning: TBATS does not have a custom `update` method implemented. TBATS will be refit each time `update` is called.\n",
      "  warn(\n",
      "/home/jovyan/.local/lib/python3.8/site-packages/sktime/forecasting/base/_base.py:693: UserWarning: NotImplementedWarning: TBATS does not have a custom `update` method implemented. TBATS will be refit each time `update` is called.\n",
      "  warn(\n",
      "/home/jovyan/.local/lib/python3.8/site-packages/sktime/forecasting/base/_base.py:693: UserWarning: NotImplementedWarning: TBATS does not have a custom `update` method implemented. TBATS will be refit each time `update` is called.\n",
      "  warn(\n",
      "/home/jovyan/.local/lib/python3.8/site-packages/sktime/forecasting/base/_base.py:693: UserWarning: NotImplementedWarning: TBATS does not have a custom `update` method implemented. TBATS will be refit each time `update` is called.\n",
      "  warn(\n",
      "/home/jovyan/.local/lib/python3.8/site-packages/sktime/forecasting/base/_base.py:693: UserWarning: NotImplementedWarning: TBATS does not have a custom `update` method implemented. TBATS will be refit each time `update` is called.\n",
      "  warn(\n",
      "/home/jovyan/.local/lib/python3.8/site-packages/sktime/forecasting/base/_base.py:693: UserWarning: NotImplementedWarning: TBATS does not have a custom `update` method implemented. TBATS will be refit each time `update` is called.\n",
      "  warn(\n",
      "/home/jovyan/.local/lib/python3.8/site-packages/sktime/forecasting/base/_base.py:693: UserWarning: NotImplementedWarning: TBATS does not have a custom `update` method implemented. TBATS will be refit each time `update` is called.\n",
      "  warn(\n",
      "/home/jovyan/.local/lib/python3.8/site-packages/sktime/forecasting/base/_base.py:693: UserWarning: NotImplementedWarning: TBATS does not have a custom `update` method implemented. TBATS will be refit each time `update` is called.\n",
      "  warn(\n",
      "/home/jovyan/.local/lib/python3.8/site-packages/sktime/forecasting/base/_base.py:693: UserWarning: NotImplementedWarning: TBATS does not have a custom `update` method implemented. TBATS will be refit each time `update` is called.\n",
      "  warn(\n",
      "/home/jovyan/.local/lib/python3.8/site-packages/sktime/forecasting/base/_base.py:693: UserWarning: NotImplementedWarning: TBATS does not have a custom `update` method implemented. TBATS will be refit each time `update` is called.\n",
      "  warn(\n",
      "/home/jovyan/.local/lib/python3.8/site-packages/sktime/forecasting/base/_base.py:693: UserWarning: NotImplementedWarning: TBATS does not have a custom `update` method implemented. TBATS will be refit each time `update` is called.\n",
      "  warn(\n",
      "/home/jovyan/.local/lib/python3.8/site-packages/sktime/forecasting/base/_base.py:693: UserWarning: NotImplementedWarning: TBATS does not have a custom `update` method implemented. TBATS will be refit each time `update` is called.\n",
      "  warn(\n",
      "/home/jovyan/.local/lib/python3.8/site-packages/sktime/forecasting/base/_base.py:693: UserWarning: NotImplementedWarning: TBATS does not have a custom `update` method implemented. TBATS will be refit each time `update` is called.\n",
      "  warn(\n",
      "/home/jovyan/.local/lib/python3.8/site-packages/sktime/forecasting/base/_base.py:693: UserWarning: NotImplementedWarning: TBATS does not have a custom `update` method implemented. TBATS will be refit each time `update` is called.\n",
      "  warn(\n",
      "/home/jovyan/.local/lib/python3.8/site-packages/sktime/forecasting/base/_base.py:693: UserWarning: NotImplementedWarning: TBATS does not have a custom `update` method implemented. TBATS will be refit each time `update` is called.\n",
      "  warn(\n",
      "/home/jovyan/.local/lib/python3.8/site-packages/sktime/forecasting/base/_base.py:693: UserWarning: NotImplementedWarning: TBATS does not have a custom `update` method implemented. TBATS will be refit each time `update` is called.\n",
      "  warn(\n",
      "/home/jovyan/.local/lib/python3.8/site-packages/sktime/forecasting/base/_base.py:693: UserWarning: NotImplementedWarning: TBATS does not have a custom `update` method implemented. TBATS will be refit each time `update` is called.\n",
      "  warn(\n",
      "/home/jovyan/.local/lib/python3.8/site-packages/sktime/forecasting/base/_base.py:693: UserWarning: NotImplementedWarning: TBATS does not have a custom `update` method implemented. TBATS will be refit each time `update` is called.\n",
      "  warn(\n",
      "/home/jovyan/.local/lib/python3.8/site-packages/sktime/forecasting/base/_base.py:693: UserWarning: NotImplementedWarning: TBATS does not have a custom `update` method implemented. TBATS will be refit each time `update` is called.\n",
      "  warn(\n",
      "/home/jovyan/.local/lib/python3.8/site-packages/sktime/forecasting/base/_base.py:693: UserWarning: NotImplementedWarning: TBATS does not have a custom `update` method implemented. TBATS will be refit each time `update` is called.\n",
      "  warn(\n",
      "/home/jovyan/.local/lib/python3.8/site-packages/sktime/forecasting/base/_base.py:693: UserWarning: NotImplementedWarning: TBATS does not have a custom `update` method implemented. TBATS will be refit each time `update` is called.\n",
      "  warn(\n",
      "/home/jovyan/.local/lib/python3.8/site-packages/sktime/forecasting/base/_base.py:693: UserWarning: NotImplementedWarning: TBATS does not have a custom `update` method implemented. TBATS will be refit each time `update` is called.\n",
      "  warn(\n",
      "/home/jovyan/.local/lib/python3.8/site-packages/sktime/forecasting/base/_base.py:693: UserWarning: NotImplementedWarning: TBATS does not have a custom `update` method implemented. TBATS will be refit each time `update` is called.\n",
      "  warn(\n",
      "/home/jovyan/.local/lib/python3.8/site-packages/sktime/forecasting/base/_base.py:693: UserWarning: NotImplementedWarning: TBATS does not have a custom `update` method implemented. TBATS will be refit each time `update` is called.\n",
      "  warn(\n",
      "/home/jovyan/.local/lib/python3.8/site-packages/sktime/forecasting/base/_base.py:693: UserWarning: NotImplementedWarning: TBATS does not have a custom `update` method implemented. TBATS will be refit each time `update` is called.\n",
      "  warn(\n",
      "/home/jovyan/.local/lib/python3.8/site-packages/sktime/forecasting/base/_base.py:693: UserWarning: NotImplementedWarning: TBATS does not have a custom `update` method implemented. TBATS will be refit each time `update` is called.\n",
      "  warn(\n",
      "/home/jovyan/.local/lib/python3.8/site-packages/sktime/forecasting/base/_base.py:693: UserWarning: NotImplementedWarning: TBATS does not have a custom `update` method implemented. TBATS will be refit each time `update` is called.\n",
      "  warn(\n",
      "/home/jovyan/.local/lib/python3.8/site-packages/sktime/forecasting/base/_base.py:693: UserWarning: NotImplementedWarning: TBATS does not have a custom `update` method implemented. TBATS will be refit each time `update` is called.\n",
      "  warn(\n",
      "/home/jovyan/.local/lib/python3.8/site-packages/sktime/forecasting/base/_base.py:693: UserWarning: NotImplementedWarning: TBATS does not have a custom `update` method implemented. TBATS will be refit each time `update` is called.\n",
      "  warn(\n",
      "/home/jovyan/.local/lib/python3.8/site-packages/sktime/forecasting/base/_base.py:693: UserWarning: NotImplementedWarning: TBATS does not have a custom `update` method implemented. TBATS will be refit each time `update` is called.\n",
      "  warn(\n",
      "/home/jovyan/.local/lib/python3.8/site-packages/sktime/forecasting/base/_base.py:693: UserWarning: NotImplementedWarning: TBATS does not have a custom `update` method implemented. TBATS will be refit each time `update` is called.\n",
      "  warn(\n",
      "/home/jovyan/.local/lib/python3.8/site-packages/sktime/forecasting/base/_base.py:693: UserWarning: NotImplementedWarning: TBATS does not have a custom `update` method implemented. TBATS will be refit each time `update` is called.\n",
      "  warn(\n",
      "/home/jovyan/.local/lib/python3.8/site-packages/sktime/forecasting/base/_base.py:693: UserWarning: NotImplementedWarning: TBATS does not have a custom `update` method implemented. TBATS will be refit each time `update` is called.\n",
      "  warn(\n",
      "/home/jovyan/.local/lib/python3.8/site-packages/sktime/forecasting/base/_base.py:693: UserWarning: NotImplementedWarning: TBATS does not have a custom `update` method implemented. TBATS will be refit each time `update` is called.\n",
      "  warn(\n",
      "/home/jovyan/.local/lib/python3.8/site-packages/sktime/forecasting/base/_base.py:693: UserWarning: NotImplementedWarning: TBATS does not have a custom `update` method implemented. TBATS will be refit each time `update` is called.\n",
      "  warn(\n",
      "/home/jovyan/.local/lib/python3.8/site-packages/sktime/forecasting/base/_base.py:693: UserWarning: NotImplementedWarning: TBATS does not have a custom `update` method implemented. TBATS will be refit each time `update` is called.\n",
      "  warn(\n",
      "/home/jovyan/.local/lib/python3.8/site-packages/sktime/forecasting/base/_base.py:693: UserWarning: NotImplementedWarning: TBATS does not have a custom `update` method implemented. TBATS will be refit each time `update` is called.\n",
      "  warn(\n",
      "/home/jovyan/.local/lib/python3.8/site-packages/sktime/forecasting/base/_base.py:693: UserWarning: NotImplementedWarning: TBATS does not have a custom `update` method implemented. TBATS will be refit each time `update` is called.\n",
      "  warn(\n",
      "/home/jovyan/.local/lib/python3.8/site-packages/sktime/forecasting/base/_base.py:693: UserWarning: NotImplementedWarning: TBATS does not have a custom `update` method implemented. TBATS will be refit each time `update` is called.\n",
      "  warn(\n",
      "/home/jovyan/.local/lib/python3.8/site-packages/sktime/forecasting/base/_base.py:693: UserWarning: NotImplementedWarning: TBATS does not have a custom `update` method implemented. TBATS will be refit each time `update` is called.\n",
      "  warn(\n",
      "/home/jovyan/.local/lib/python3.8/site-packages/sktime/forecasting/base/_base.py:693: UserWarning: NotImplementedWarning: TBATS does not have a custom `update` method implemented. TBATS will be refit each time `update` is called.\n",
      "  warn(\n",
      "/home/jovyan/.local/lib/python3.8/site-packages/sktime/forecasting/base/_base.py:693: UserWarning: NotImplementedWarning: TBATS does not have a custom `update` method implemented. TBATS will be refit each time `update` is called.\n",
      "  warn(\n",
      "/home/jovyan/.local/lib/python3.8/site-packages/sktime/forecasting/base/_base.py:693: UserWarning: NotImplementedWarning: TBATS does not have a custom `update` method implemented. TBATS will be refit each time `update` is called.\n",
      "  warn(\n",
      "/home/jovyan/.local/lib/python3.8/site-packages/sktime/forecasting/base/_base.py:693: UserWarning: NotImplementedWarning: TBATS does not have a custom `update` method implemented. TBATS will be refit each time `update` is called.\n",
      "  warn(\n",
      "/home/jovyan/.local/lib/python3.8/site-packages/sktime/forecasting/base/_base.py:693: UserWarning: NotImplementedWarning: TBATS does not have a custom `update` method implemented. TBATS will be refit each time `update` is called.\n",
      "  warn(\n",
      "/home/jovyan/.local/lib/python3.8/site-packages/sktime/forecasting/base/_base.py:693: UserWarning: NotImplementedWarning: TBATS does not have a custom `update` method implemented. TBATS will be refit each time `update` is called.\n",
      "  warn(\n",
      "/home/jovyan/.local/lib/python3.8/site-packages/sktime/forecasting/base/_base.py:693: UserWarning: NotImplementedWarning: TBATS does not have a custom `update` method implemented. TBATS will be refit each time `update` is called.\n",
      "  warn(\n",
      "/home/jovyan/.local/lib/python3.8/site-packages/sktime/forecasting/base/_base.py:693: UserWarning: NotImplementedWarning: TBATS does not have a custom `update` method implemented. TBATS will be refit each time `update` is called.\n",
      "  warn(\n",
      "/home/jovyan/.local/lib/python3.8/site-packages/sktime/forecasting/base/_base.py:693: UserWarning: NotImplementedWarning: TBATS does not have a custom `update` method implemented. TBATS will be refit each time `update` is called.\n",
      "  warn(\n",
      "/home/jovyan/.local/lib/python3.8/site-packages/sktime/forecasting/base/_base.py:693: UserWarning: NotImplementedWarning: TBATS does not have a custom `update` method implemented. TBATS will be refit each time `update` is called.\n",
      "  warn(\n",
      "/home/jovyan/.local/lib/python3.8/site-packages/sktime/forecasting/base/_base.py:693: UserWarning: NotImplementedWarning: TBATS does not have a custom `update` method implemented. TBATS will be refit each time `update` is called.\n",
      "  warn(\n",
      "/home/jovyan/.local/lib/python3.8/site-packages/sktime/forecasting/base/_base.py:693: UserWarning: NotImplementedWarning: TBATS does not have a custom `update` method implemented. TBATS will be refit each time `update` is called.\n",
      "  warn(\n",
      "/home/jovyan/.local/lib/python3.8/site-packages/sktime/forecasting/base/_base.py:693: UserWarning: NotImplementedWarning: TBATS does not have a custom `update` method implemented. TBATS will be refit each time `update` is called.\n",
      "  warn(\n",
      "/home/jovyan/.local/lib/python3.8/site-packages/sktime/forecasting/base/_base.py:693: UserWarning: NotImplementedWarning: TBATS does not have a custom `update` method implemented. TBATS will be refit each time `update` is called.\n",
      "  warn(\n",
      "/home/jovyan/.local/lib/python3.8/site-packages/sktime/forecasting/base/_base.py:693: UserWarning: NotImplementedWarning: TBATS does not have a custom `update` method implemented. TBATS will be refit each time `update` is called.\n",
      "  warn(\n",
      "/home/jovyan/.local/lib/python3.8/site-packages/sktime/forecasting/base/_base.py:693: UserWarning: NotImplementedWarning: TBATS does not have a custom `update` method implemented. TBATS will be refit each time `update` is called.\n",
      "  warn(\n",
      "/home/jovyan/.local/lib/python3.8/site-packages/sktime/forecasting/base/_base.py:693: UserWarning: NotImplementedWarning: TBATS does not have a custom `update` method implemented. TBATS will be refit each time `update` is called.\n",
      "  warn(\n",
      "/home/jovyan/.local/lib/python3.8/site-packages/sktime/forecasting/base/_base.py:693: UserWarning: NotImplementedWarning: TBATS does not have a custom `update` method implemented. TBATS will be refit each time `update` is called.\n",
      "  warn(\n",
      "/home/jovyan/.local/lib/python3.8/site-packages/sktime/forecasting/base/_base.py:693: UserWarning: NotImplementedWarning: TBATS does not have a custom `update` method implemented. TBATS will be refit each time `update` is called.\n",
      "  warn(\n",
      "/home/jovyan/.local/lib/python3.8/site-packages/sktime/forecasting/base/_base.py:693: UserWarning: NotImplementedWarning: TBATS does not have a custom `update` method implemented. TBATS will be refit each time `update` is called.\n",
      "  warn(\n",
      "/home/jovyan/.local/lib/python3.8/site-packages/sktime/forecasting/base/_base.py:693: UserWarning: NotImplementedWarning: TBATS does not have a custom `update` method implemented. TBATS will be refit each time `update` is called.\n",
      "  warn(\n",
      "/home/jovyan/.local/lib/python3.8/site-packages/sktime/forecasting/base/_base.py:693: UserWarning: NotImplementedWarning: TBATS does not have a custom `update` method implemented. TBATS will be refit each time `update` is called.\n",
      "  warn(\n",
      "/home/jovyan/.local/lib/python3.8/site-packages/sktime/forecasting/base/_base.py:693: UserWarning: NotImplementedWarning: TBATS does not have a custom `update` method implemented. TBATS will be refit each time `update` is called.\n",
      "  warn(\n",
      "/home/jovyan/.local/lib/python3.8/site-packages/sktime/forecasting/base/_base.py:693: UserWarning: NotImplementedWarning: TBATS does not have a custom `update` method implemented. TBATS will be refit each time `update` is called.\n",
      "  warn(\n",
      "/home/jovyan/.local/lib/python3.8/site-packages/sktime/forecasting/base/_base.py:693: UserWarning: NotImplementedWarning: TBATS does not have a custom `update` method implemented. TBATS will be refit each time `update` is called.\n",
      "  warn(\n",
      "/home/jovyan/.local/lib/python3.8/site-packages/sktime/forecasting/base/_base.py:693: UserWarning: NotImplementedWarning: TBATS does not have a custom `update` method implemented. TBATS will be refit each time `update` is called.\n",
      "  warn(\n",
      "/home/jovyan/.local/lib/python3.8/site-packages/sktime/forecasting/base/_base.py:693: UserWarning: NotImplementedWarning: TBATS does not have a custom `update` method implemented. TBATS will be refit each time `update` is called.\n",
      "  warn(\n",
      "/home/jovyan/.local/lib/python3.8/site-packages/sktime/forecasting/base/_base.py:693: UserWarning: NotImplementedWarning: TBATS does not have a custom `update` method implemented. TBATS will be refit each time `update` is called.\n",
      "  warn(\n",
      "/home/jovyan/.local/lib/python3.8/site-packages/sktime/forecasting/base/_base.py:693: UserWarning: NotImplementedWarning: TBATS does not have a custom `update` method implemented. TBATS will be refit each time `update` is called.\n",
      "  warn(\n",
      "/home/jovyan/.local/lib/python3.8/site-packages/sktime/forecasting/base/_base.py:693: UserWarning: NotImplementedWarning: TBATS does not have a custom `update` method implemented. TBATS will be refit each time `update` is called.\n",
      "  warn(\n",
      "/home/jovyan/.local/lib/python3.8/site-packages/sktime/forecasting/base/_base.py:693: UserWarning: NotImplementedWarning: TBATS does not have a custom `update` method implemented. TBATS will be refit each time `update` is called.\n",
      "  warn(\n",
      "/home/jovyan/.local/lib/python3.8/site-packages/sktime/forecasting/base/_base.py:693: UserWarning: NotImplementedWarning: TBATS does not have a custom `update` method implemented. TBATS will be refit each time `update` is called.\n",
      "  warn(\n"
     ]
    },
    {
     "name": "stdout",
     "output_type": "stream",
     "text": [
      "time: 10min 7s (started: 2021-08-08 13:57:37 +00:00)\n"
     ]
    }
   ],
   "source": [
    "evaluation_results = evaluate(forecaster=forecaster, y=train['total_rides'].astype('float64'), \n",
    "         cv=cv, strategy=\"update\", return_data=True)"
   ]
  },
  {
   "cell_type": "code",
   "execution_count": 92,
   "id": "f5cbb2d9",
   "metadata": {},
   "outputs": [
    {
     "data": {
      "text/plain": [
       "Index(['test_MeanAbsolutePercentageError', 'fit_time', 'pred_time',\n",
       "       'len_train_window', 'cutoff', 'y_train', 'y_test', 'y_pred'],\n",
       "      dtype='object')"
      ]
     },
     "execution_count": 92,
     "metadata": {},
     "output_type": "execute_result"
    },
    {
     "name": "stdout",
     "output_type": "stream",
     "text": [
      "time: 2.02 ms (started: 2021-08-08 14:07:45 +00:00)\n"
     ]
    }
   ],
   "source": [
    "evaluation_results.columns"
   ]
  },
  {
   "cell_type": "code",
   "execution_count": 93,
   "id": "c7470834",
   "metadata": {},
   "outputs": [
    {
     "data": {
      "text/html": [
       "<div>\n",
       "<style scoped>\n",
       "    .dataframe tbody tr th:only-of-type {\n",
       "        vertical-align: middle;\n",
       "    }\n",
       "\n",
       "    .dataframe tbody tr th {\n",
       "        vertical-align: top;\n",
       "    }\n",
       "\n",
       "    .dataframe thead th {\n",
       "        text-align: right;\n",
       "    }\n",
       "</style>\n",
       "<table border=\"1\" class=\"dataframe\">\n",
       "  <thead>\n",
       "    <tr style=\"text-align: right;\">\n",
       "      <th></th>\n",
       "      <th>test_MeanAbsolutePercentageError</th>\n",
       "      <th>fit_time</th>\n",
       "      <th>pred_time</th>\n",
       "      <th>len_train_window</th>\n",
       "      <th>cutoff</th>\n",
       "      <th>y_train</th>\n",
       "      <th>y_test</th>\n",
       "      <th>y_pred</th>\n",
       "    </tr>\n",
       "  </thead>\n",
       "  <tbody>\n",
       "    <tr>\n",
       "      <th>0</th>\n",
       "      <td>0.022012</td>\n",
       "      <td>5.429159</td>\n",
       "      <td>0.007289</td>\n",
       "      <td>28</td>\n",
       "      <td>27.0</td>\n",
       "      <td>0     307272.0\n",
       "1     236761.0\n",
       "2     226554.0\n",
       "3...</td>\n",
       "      <td>34    454753.0\n",
       "Name: total_rides, dtype: float64</td>\n",
       "      <td>34    444851.936474\n",
       "dtype: float64</td>\n",
       "    </tr>\n",
       "    <tr>\n",
       "      <th>1</th>\n",
       "      <td>0.092416</td>\n",
       "      <td>5.444932</td>\n",
       "      <td>0.008147</td>\n",
       "      <td>28</td>\n",
       "      <td>34.0</td>\n",
       "      <td>7     437214.0\n",
       "8     489393.0\n",
       "9     445096.0\n",
       "1...</td>\n",
       "      <td>41    502234.0\n",
       "Name: total_rides, dtype: float64</td>\n",
       "      <td>41    457869.533586\n",
       "dtype: float64</td>\n",
       "    </tr>\n",
       "    <tr>\n",
       "      <th>2</th>\n",
       "      <td>0.034709</td>\n",
       "      <td>5.718702</td>\n",
       "      <td>0.007326</td>\n",
       "      <td>28</td>\n",
       "      <td>41.0</td>\n",
       "      <td>14    473737.0\n",
       "15    450037.0\n",
       "16    438308.0\n",
       "1...</td>\n",
       "      <td>48    486310.0\n",
       "Name: total_rides, dtype: float64</td>\n",
       "      <td>48    503487.494075\n",
       "dtype: float64</td>\n",
       "    </tr>\n",
       "    <tr>\n",
       "      <th>3</th>\n",
       "      <td>0.048289</td>\n",
       "      <td>5.213874</td>\n",
       "      <td>0.009579</td>\n",
       "      <td>28</td>\n",
       "      <td>48.0</td>\n",
       "      <td>21    471540.0\n",
       "22    464846.0\n",
       "23    448911.0\n",
       "2...</td>\n",
       "      <td>55    464088.0\n",
       "Name: total_rides, dtype: float64</td>\n",
       "      <td>55    487052.835529\n",
       "dtype: float64</td>\n",
       "    </tr>\n",
       "    <tr>\n",
       "      <th>4</th>\n",
       "      <td>0.031409</td>\n",
       "      <td>5.583951</td>\n",
       "      <td>0.007154</td>\n",
       "      <td>28</td>\n",
       "      <td>55.0</td>\n",
       "      <td>28    456095.0\n",
       "29    457632.0\n",
       "30    435400.0\n",
       "3...</td>\n",
       "      <td>62    478552.0\n",
       "Name: total_rides, dtype: float64</td>\n",
       "      <td>62    463753.429954\n",
       "dtype: float64</td>\n",
       "    </tr>\n",
       "  </tbody>\n",
       "</table>\n",
       "</div>"
      ],
      "text/plain": [
       "   test_MeanAbsolutePercentageError  fit_time  pred_time  len_train_window  \\\n",
       "0                          0.022012  5.429159   0.007289                28   \n",
       "1                          0.092416  5.444932   0.008147                28   \n",
       "2                          0.034709  5.718702   0.007326                28   \n",
       "3                          0.048289  5.213874   0.009579                28   \n",
       "4                          0.031409  5.583951   0.007154                28   \n",
       "\n",
       "   cutoff                                            y_train  \\\n",
       "0    27.0  0     307272.0\n",
       "1     236761.0\n",
       "2     226554.0\n",
       "3...   \n",
       "1    34.0  7     437214.0\n",
       "8     489393.0\n",
       "9     445096.0\n",
       "1...   \n",
       "2    41.0  14    473737.0\n",
       "15    450037.0\n",
       "16    438308.0\n",
       "1...   \n",
       "3    48.0  21    471540.0\n",
       "22    464846.0\n",
       "23    448911.0\n",
       "2...   \n",
       "4    55.0  28    456095.0\n",
       "29    457632.0\n",
       "30    435400.0\n",
       "3...   \n",
       "\n",
       "                                             y_test  \\\n",
       "0  34    454753.0\n",
       "Name: total_rides, dtype: float64   \n",
       "1  41    502234.0\n",
       "Name: total_rides, dtype: float64   \n",
       "2  48    486310.0\n",
       "Name: total_rides, dtype: float64   \n",
       "3  55    464088.0\n",
       "Name: total_rides, dtype: float64   \n",
       "4  62    478552.0\n",
       "Name: total_rides, dtype: float64   \n",
       "\n",
       "                               y_pred  \n",
       "0  34    444851.936474\n",
       "dtype: float64  \n",
       "1  41    457869.533586\n",
       "dtype: float64  \n",
       "2  48    503487.494075\n",
       "dtype: float64  \n",
       "3  55    487052.835529\n",
       "dtype: float64  \n",
       "4  62    463753.429954\n",
       "dtype: float64  "
      ]
     },
     "execution_count": 93,
     "metadata": {},
     "output_type": "execute_result"
    },
    {
     "name": "stdout",
     "output_type": "stream",
     "text": [
      "time: 32.4 ms (started: 2021-08-08 14:07:45 +00:00)\n"
     ]
    }
   ],
   "source": [
    "evaluation_results.head()"
   ]
  },
  {
   "cell_type": "code",
   "execution_count": 94,
   "id": "1960d87b",
   "metadata": {},
   "outputs": [
    {
     "data": {
      "text/plain": [
       "0      34    454753.0\n",
       "Name: total_rides, dtype: float64\n",
       "1      41    502234.0\n",
       "Name: total_rides, dtype: float64\n",
       "2      48    486310.0\n",
       "Name: total_rides, dtype: float64\n",
       "3      55    464088.0\n",
       "Name: total_rides, dtype: float64\n",
       "4      62    478552.0\n",
       "Name: total_rides, dtype: float64\n",
       "                            ...                        \n",
       "95    699    439718.0\n",
       "Name: total_rides, dtype: float64\n",
       "96    706    438098.0\n",
       "Name: total_rides, dtype: float64\n",
       "97    713    449014.0\n",
       "Name: total_rides, dtype: float64\n",
       "98    720    436945.0\n",
       "Name: total_rides, dtype: float64\n",
       "99    727    451743.0\n",
       "Name: total_rides, dtype: float64\n",
       "Name: y_test, Length: 100, dtype: object"
      ]
     },
     "execution_count": 94,
     "metadata": {},
     "output_type": "execute_result"
    },
    {
     "name": "stdout",
     "output_type": "stream",
     "text": [
      "time: 16.6 ms (started: 2021-08-08 14:07:45 +00:00)\n"
     ]
    }
   ],
   "source": [
    "evaluation_results.y_test"
   ]
  },
  {
   "cell_type": "code",
   "execution_count": 95,
   "id": "7ad1490d",
   "metadata": {},
   "outputs": [
    {
     "data": {
      "text/plain": [
       "RangeIndex(start=0, stop=100, step=1)"
      ]
     },
     "execution_count": 95,
     "metadata": {},
     "output_type": "execute_result"
    },
    {
     "name": "stdout",
     "output_type": "stream",
     "text": [
      "time: 4.95 ms (started: 2021-08-08 14:07:45 +00:00)\n"
     ]
    }
   ],
   "source": [
    "evaluation_results.index"
   ]
  },
  {
   "cell_type": "markdown",
   "id": "afcabb2a",
   "metadata": {},
   "source": [
    "## Evaluating the results"
   ]
  },
  {
   "cell_type": "code",
   "execution_count": 96,
   "id": "257bfa1e",
   "metadata": {},
   "outputs": [
    {
     "data": {
      "text/plain": [
       "<AxesSubplot:>"
      ]
     },
     "execution_count": 96,
     "metadata": {},
     "output_type": "execute_result"
    },
    {
     "data": {
      "image/png": "[encoded data removed]",
      "text/plain": [
       "<Figure size 432x288 with 1 Axes>"
      ]
     },
     "metadata": {
      "needs_background": "light"
     },
     "output_type": "display_data"
    },
    {
     "name": "stdout",
     "output_type": "stream",
     "text": [
      "time: 109 ms (started: 2021-08-08 14:07:45 +00:00)\n"
     ]
    }
   ],
   "source": [
    "# histogram of fit loops\n",
    "evaluation_results.test_MeanAbsolutePercentageError.hist(bins=20)"
   ]
  },
  {
   "cell_type": "markdown",
   "id": "17370393",
   "metadata": {},
   "source": [
    "# Testing Multiple Forecasters"
   ]
  },
  {
   "cell_type": "code",
   "execution_count": 102,
   "id": "c9763a5e",
   "metadata": {},
   "outputs": [
    {
     "name": "stdout",
     "output_type": "stream",
     "text": [
      "time: 393 µs (started: 2021-08-08 14:45:12 +00:00)\n"
     ]
    }
   ],
   "source": [
    "from sktime.forecasting.compose import MultiplexForecaster\n",
    "from sktime.forecasting.naive import NaiveForecaster\n",
    "from sktime.forecasting.exp_smoothing import ExponentialSmoothing\n",
    "from sklearn.model_selection import GridSearchCV\n",
    "from sktime.forecasting.model_selection import ForecastingGridSearchCV"
   ]
  },
  {
   "cell_type": "code",
   "execution_count": 103,
   "id": "010a68e7",
   "metadata": {},
   "outputs": [
    {
     "name": "stdout",
     "output_type": "stream",
     "text": [
      "time: 393 µs (started: 2021-08-08 14:45:12 +00:00)\n"
     ]
    }
   ],
   "source": [
    "forecaster = MultiplexForecaster(\n",
    "    forecasters=[\n",
    "        (\"naive\", NaiveForecaster(strategy=\"last\")),\n",
    "        (\"ets\", ExponentialSmoothing(trend=\"add\", sp=7)),\n",
    "        (\"tbats\", TBATS(use_box_cox=False, use_trend=False,\n",
    "                     use_damped_trend=False, sp=7,\n",
    "                     use_arma_errors=False, n_jobs=-1))\n",
    "    ],\n",
    ")"
   ]
  },
  {
   "cell_type": "code",
   "execution_count": 104,
   "id": "e0aba71e",
   "metadata": {},
   "outputs": [
    {
     "name": "stdout",
     "output_type": "stream",
     "text": [
      "time: 372 µs (started: 2021-08-08 14:47:04 +00:00)\n"
     ]
    }
   ],
   "source": [
    "forecaster_param_grid = {\"selected_forecaster\": [\"ets\", \"naive\", \"tbats\"]}\n",
    "gscv = ForecastingGridSearchCV(forecaster, cv=cv, param_grid=forecaster_param_grid)"
   ]
  },
  {
   "cell_type": "code",
   "execution_count": 113,
   "id": "996c01b2",
   "metadata": {
    "collapsed": true,
    "jupyter": {
     "outputs_hidden": true
    }
   },
   "outputs": [
    {
     "name": "stderr",
     "output_type": "stream",
     "text": [
      "/home/jovyan/.local/lib/python3.8/site-packages/statsmodels/tsa/holtwinters/model.py:920: ConvergenceWarning: Optimization failed to converge. Check mle_retvals.\n",
      "  warnings.warn(\n",
      "/home/jovyan/.local/lib/python3.8/site-packages/statsmodels/tsa/holtwinters/model.py:920: ConvergenceWarning: Optimization failed to converge. Check mle_retvals.\n",
      "  warnings.warn(\n",
      "/home/jovyan/.local/lib/python3.8/site-packages/statsmodels/tsa/holtwinters/model.py:920: ConvergenceWarning: Optimization failed to converge. Check mle_retvals.\n",
      "  warnings.warn(\n",
      "/home/jovyan/.local/lib/python3.8/site-packages/statsmodels/tsa/holtwinters/model.py:920: ConvergenceWarning: Optimization failed to converge. Check mle_retvals.\n",
      "  warnings.warn(\n",
      "/home/jovyan/.local/lib/python3.8/site-packages/statsmodels/tsa/holtwinters/model.py:920: ConvergenceWarning: Optimization failed to converge. Check mle_retvals.\n",
      "  warnings.warn(\n",
      "/home/jovyan/.local/lib/python3.8/site-packages/statsmodels/tsa/holtwinters/model.py:920: ConvergenceWarning: Optimization failed to converge. Check mle_retvals.\n",
      "  warnings.warn(\n",
      "/home/jovyan/.local/lib/python3.8/site-packages/statsmodels/tsa/holtwinters/model.py:920: ConvergenceWarning: Optimization failed to converge. Check mle_retvals.\n",
      "  warnings.warn(\n",
      "/home/jovyan/.local/lib/python3.8/site-packages/statsmodels/tsa/holtwinters/model.py:920: ConvergenceWarning: Optimization failed to converge. Check mle_retvals.\n",
      "  warnings.warn(\n",
      "/home/jovyan/.local/lib/python3.8/site-packages/statsmodels/tsa/holtwinters/model.py:920: ConvergenceWarning: Optimization failed to converge. Check mle_retvals.\n",
      "  warnings.warn(\n",
      "/home/jovyan/.local/lib/python3.8/site-packages/statsmodels/tsa/holtwinters/model.py:920: ConvergenceWarning: Optimization failed to converge. Check mle_retvals.\n",
      "  warnings.warn(\n",
      "/home/jovyan/.local/lib/python3.8/site-packages/statsmodels/tsa/holtwinters/model.py:920: ConvergenceWarning: Optimization failed to converge. Check mle_retvals.\n",
      "  warnings.warn(\n",
      "/home/jovyan/.local/lib/python3.8/site-packages/statsmodels/tsa/holtwinters/model.py:920: ConvergenceWarning: Optimization failed to converge. Check mle_retvals.\n",
      "  warnings.warn(\n",
      "/home/jovyan/.local/lib/python3.8/site-packages/statsmodels/tsa/holtwinters/model.py:920: ConvergenceWarning: Optimization failed to converge. Check mle_retvals.\n",
      "  warnings.warn(\n",
      "/home/jovyan/.local/lib/python3.8/site-packages/statsmodels/tsa/holtwinters/model.py:920: ConvergenceWarning: Optimization failed to converge. Check mle_retvals.\n",
      "  warnings.warn(\n",
      "/home/jovyan/.local/lib/python3.8/site-packages/statsmodels/tsa/holtwinters/model.py:920: ConvergenceWarning: Optimization failed to converge. Check mle_retvals.\n",
      "  warnings.warn(\n",
      "/home/jovyan/.local/lib/python3.8/site-packages/statsmodels/tsa/holtwinters/model.py:920: ConvergenceWarning: Optimization failed to converge. Check mle_retvals.\n",
      "  warnings.warn(\n",
      "/home/jovyan/.local/lib/python3.8/site-packages/statsmodels/tsa/holtwinters/model.py:920: ConvergenceWarning: Optimization failed to converge. Check mle_retvals.\n",
      "  warnings.warn(\n",
      "/home/jovyan/.local/lib/python3.8/site-packages/statsmodels/tsa/holtwinters/model.py:920: ConvergenceWarning: Optimization failed to converge. Check mle_retvals.\n",
      "  warnings.warn(\n",
      "/home/jovyan/.local/lib/python3.8/site-packages/statsmodels/tsa/holtwinters/model.py:920: ConvergenceWarning: Optimization failed to converge. Check mle_retvals.\n",
      "  warnings.warn(\n",
      "/home/jovyan/.local/lib/python3.8/site-packages/statsmodels/tsa/holtwinters/model.py:920: ConvergenceWarning: Optimization failed to converge. Check mle_retvals.\n",
      "  warnings.warn(\n",
      "/home/jovyan/.local/lib/python3.8/site-packages/statsmodels/tsa/holtwinters/model.py:920: ConvergenceWarning: Optimization failed to converge. Check mle_retvals.\n",
      "  warnings.warn(\n",
      "/home/jovyan/.local/lib/python3.8/site-packages/statsmodels/tsa/holtwinters/model.py:920: ConvergenceWarning: Optimization failed to converge. Check mle_retvals.\n",
      "  warnings.warn(\n",
      "/home/jovyan/.local/lib/python3.8/site-packages/statsmodels/tsa/holtwinters/model.py:920: ConvergenceWarning: Optimization failed to converge. Check mle_retvals.\n",
      "  warnings.warn(\n",
      "/home/jovyan/.local/lib/python3.8/site-packages/statsmodels/tsa/holtwinters/model.py:920: ConvergenceWarning: Optimization failed to converge. Check mle_retvals.\n",
      "  warnings.warn(\n",
      "/home/jovyan/.local/lib/python3.8/site-packages/statsmodels/tsa/holtwinters/model.py:920: ConvergenceWarning: Optimization failed to converge. Check mle_retvals.\n",
      "  warnings.warn(\n",
      "/home/jovyan/.local/lib/python3.8/site-packages/statsmodels/tsa/holtwinters/model.py:920: ConvergenceWarning: Optimization failed to converge. Check mle_retvals.\n",
      "  warnings.warn(\n",
      "/home/jovyan/.local/lib/python3.8/site-packages/statsmodels/tsa/holtwinters/model.py:920: ConvergenceWarning: Optimization failed to converge. Check mle_retvals.\n",
      "  warnings.warn(\n",
      "/home/jovyan/.local/lib/python3.8/site-packages/statsmodels/tsa/holtwinters/model.py:920: ConvergenceWarning: Optimization failed to converge. Check mle_retvals.\n",
      "  warnings.warn(\n",
      "/home/jovyan/.local/lib/python3.8/site-packages/statsmodels/tsa/holtwinters/model.py:920: ConvergenceWarning: Optimization failed to converge. Check mle_retvals.\n",
      "  warnings.warn(\n",
      "/home/jovyan/.local/lib/python3.8/site-packages/statsmodels/tsa/holtwinters/model.py:920: ConvergenceWarning: Optimization failed to converge. Check mle_retvals.\n",
      "  warnings.warn(\n",
      "/home/jovyan/.local/lib/python3.8/site-packages/statsmodels/tsa/holtwinters/model.py:920: ConvergenceWarning: Optimization failed to converge. Check mle_retvals.\n",
      "  warnings.warn(\n",
      "/home/jovyan/.local/lib/python3.8/site-packages/statsmodels/tsa/holtwinters/model.py:920: ConvergenceWarning: Optimization failed to converge. Check mle_retvals.\n",
      "  warnings.warn(\n",
      "/home/jovyan/.local/lib/python3.8/site-packages/statsmodels/tsa/holtwinters/model.py:920: ConvergenceWarning: Optimization failed to converge. Check mle_retvals.\n",
      "  warnings.warn(\n",
      "/home/jovyan/.local/lib/python3.8/site-packages/statsmodels/tsa/holtwinters/model.py:920: ConvergenceWarning: Optimization failed to converge. Check mle_retvals.\n",
      "  warnings.warn(\n",
      "/home/jovyan/.local/lib/python3.8/site-packages/statsmodels/tsa/holtwinters/model.py:920: ConvergenceWarning: Optimization failed to converge. Check mle_retvals.\n",
      "  warnings.warn(\n",
      "/home/jovyan/.local/lib/python3.8/site-packages/statsmodels/tsa/holtwinters/model.py:920: ConvergenceWarning: Optimization failed to converge. Check mle_retvals.\n",
      "  warnings.warn(\n",
      "/home/jovyan/.local/lib/python3.8/site-packages/statsmodels/tsa/holtwinters/model.py:920: ConvergenceWarning: Optimization failed to converge. Check mle_retvals.\n",
      "  warnings.warn(\n",
      "/home/jovyan/.local/lib/python3.8/site-packages/statsmodels/tsa/holtwinters/model.py:920: ConvergenceWarning: Optimization failed to converge. Check mle_retvals.\n",
      "  warnings.warn(\n",
      "/home/jovyan/.local/lib/python3.8/site-packages/statsmodels/tsa/holtwinters/model.py:920: ConvergenceWarning: Optimization failed to converge. Check mle_retvals.\n",
      "  warnings.warn(\n",
      "/home/jovyan/.local/lib/python3.8/site-packages/statsmodels/tsa/holtwinters/model.py:920: ConvergenceWarning: Optimization failed to converge. Check mle_retvals.\n",
      "  warnings.warn(\n",
      "/home/jovyan/.local/lib/python3.8/site-packages/statsmodels/tsa/holtwinters/model.py:920: ConvergenceWarning: Optimization failed to converge. Check mle_retvals.\n",
      "  warnings.warn(\n",
      "/home/jovyan/.local/lib/python3.8/site-packages/statsmodels/tsa/holtwinters/model.py:920: ConvergenceWarning: Optimization failed to converge. Check mle_retvals.\n",
      "  warnings.warn(\n",
      "/home/jovyan/.local/lib/python3.8/site-packages/statsmodels/tsa/holtwinters/model.py:920: ConvergenceWarning: Optimization failed to converge. Check mle_retvals.\n",
      "  warnings.warn(\n",
      "/home/jovyan/.local/lib/python3.8/site-packages/statsmodels/tsa/holtwinters/model.py:920: ConvergenceWarning: Optimization failed to converge. Check mle_retvals.\n",
      "  warnings.warn(\n",
      "/home/jovyan/.local/lib/python3.8/site-packages/statsmodels/tsa/holtwinters/model.py:920: ConvergenceWarning: Optimization failed to converge. Check mle_retvals.\n",
      "  warnings.warn(\n",
      "/home/jovyan/.local/lib/python3.8/site-packages/statsmodels/tsa/holtwinters/model.py:920: ConvergenceWarning: Optimization failed to converge. Check mle_retvals.\n",
      "  warnings.warn(\n",
      "/home/jovyan/.local/lib/python3.8/site-packages/statsmodels/tsa/holtwinters/model.py:920: ConvergenceWarning: Optimization failed to converge. Check mle_retvals.\n",
      "  warnings.warn(\n",
      "/home/jovyan/.local/lib/python3.8/site-packages/statsmodels/tsa/holtwinters/model.py:920: ConvergenceWarning: Optimization failed to converge. Check mle_retvals.\n",
      "  warnings.warn(\n",
      "/home/jovyan/.local/lib/python3.8/site-packages/statsmodels/tsa/holtwinters/model.py:920: ConvergenceWarning: Optimization failed to converge. Check mle_retvals.\n",
      "  warnings.warn(\n",
      "/home/jovyan/.local/lib/python3.8/site-packages/statsmodels/tsa/holtwinters/model.py:920: ConvergenceWarning: Optimization failed to converge. Check mle_retvals.\n",
      "  warnings.warn(\n",
      "/home/jovyan/.local/lib/python3.8/site-packages/statsmodels/tsa/holtwinters/model.py:920: ConvergenceWarning: Optimization failed to converge. Check mle_retvals.\n",
      "  warnings.warn(\n",
      "/home/jovyan/.local/lib/python3.8/site-packages/statsmodels/tsa/holtwinters/model.py:920: ConvergenceWarning: Optimization failed to converge. Check mle_retvals.\n",
      "  warnings.warn(\n",
      "/home/jovyan/.local/lib/python3.8/site-packages/statsmodels/tsa/holtwinters/model.py:920: ConvergenceWarning: Optimization failed to converge. Check mle_retvals.\n",
      "  warnings.warn(\n",
      "/home/jovyan/.local/lib/python3.8/site-packages/statsmodels/tsa/holtwinters/model.py:920: ConvergenceWarning: Optimization failed to converge. Check mle_retvals.\n",
      "  warnings.warn(\n",
      "/home/jovyan/.local/lib/python3.8/site-packages/statsmodels/tsa/holtwinters/model.py:920: ConvergenceWarning: Optimization failed to converge. Check mle_retvals.\n",
      "  warnings.warn(\n",
      "/home/jovyan/.local/lib/python3.8/site-packages/statsmodels/tsa/holtwinters/model.py:920: ConvergenceWarning: Optimization failed to converge. Check mle_retvals.\n",
      "  warnings.warn(\n",
      "/home/jovyan/.local/lib/python3.8/site-packages/statsmodels/tsa/holtwinters/model.py:920: ConvergenceWarning: Optimization failed to converge. Check mle_retvals.\n",
      "  warnings.warn(\n",
      "/home/jovyan/.local/lib/python3.8/site-packages/statsmodels/tsa/holtwinters/model.py:920: ConvergenceWarning: Optimization failed to converge. Check mle_retvals.\n",
      "  warnings.warn(\n",
      "/home/jovyan/.local/lib/python3.8/site-packages/statsmodels/tsa/holtwinters/model.py:920: ConvergenceWarning: Optimization failed to converge. Check mle_retvals.\n",
      "  warnings.warn(\n",
      "/home/jovyan/.local/lib/python3.8/site-packages/statsmodels/tsa/holtwinters/model.py:920: ConvergenceWarning: Optimization failed to converge. Check mle_retvals.\n",
      "  warnings.warn(\n",
      "/home/jovyan/.local/lib/python3.8/site-packages/statsmodels/tsa/holtwinters/model.py:920: ConvergenceWarning: Optimization failed to converge. Check mle_retvals.\n",
      "  warnings.warn(\n",
      "/home/jovyan/.local/lib/python3.8/site-packages/statsmodels/tsa/holtwinters/model.py:920: ConvergenceWarning: Optimization failed to converge. Check mle_retvals.\n",
      "  warnings.warn(\n",
      "/home/jovyan/.local/lib/python3.8/site-packages/statsmodels/tsa/holtwinters/model.py:920: ConvergenceWarning: Optimization failed to converge. Check mle_retvals.\n",
      "  warnings.warn(\n",
      "/home/jovyan/.local/lib/python3.8/site-packages/statsmodels/tsa/holtwinters/model.py:920: ConvergenceWarning: Optimization failed to converge. Check mle_retvals.\n",
      "  warnings.warn(\n",
      "/home/jovyan/.local/lib/python3.8/site-packages/statsmodels/tsa/holtwinters/model.py:920: ConvergenceWarning: Optimization failed to converge. Check mle_retvals.\n",
      "  warnings.warn(\n",
      "/home/jovyan/.local/lib/python3.8/site-packages/statsmodels/tsa/holtwinters/model.py:920: ConvergenceWarning: Optimization failed to converge. Check mle_retvals.\n",
      "  warnings.warn(\n",
      "/home/jovyan/.local/lib/python3.8/site-packages/statsmodels/tsa/holtwinters/model.py:920: ConvergenceWarning: Optimization failed to converge. Check mle_retvals.\n",
      "  warnings.warn(\n",
      "/home/jovyan/.local/lib/python3.8/site-packages/statsmodels/tsa/holtwinters/model.py:920: ConvergenceWarning: Optimization failed to converge. Check mle_retvals.\n",
      "  warnings.warn(\n",
      "/home/jovyan/.local/lib/python3.8/site-packages/statsmodels/tsa/holtwinters/model.py:920: ConvergenceWarning: Optimization failed to converge. Check mle_retvals.\n",
      "  warnings.warn(\n",
      "/home/jovyan/.local/lib/python3.8/site-packages/statsmodels/tsa/holtwinters/model.py:920: ConvergenceWarning: Optimization failed to converge. Check mle_retvals.\n",
      "  warnings.warn(\n",
      "/home/jovyan/.local/lib/python3.8/site-packages/statsmodels/tsa/holtwinters/model.py:920: ConvergenceWarning: Optimization failed to converge. Check mle_retvals.\n",
      "  warnings.warn(\n",
      "/home/jovyan/.local/lib/python3.8/site-packages/statsmodels/tsa/holtwinters/model.py:920: ConvergenceWarning: Optimization failed to converge. Check mle_retvals.\n",
      "  warnings.warn(\n",
      "/home/jovyan/.local/lib/python3.8/site-packages/statsmodels/tsa/holtwinters/model.py:920: ConvergenceWarning: Optimization failed to converge. Check mle_retvals.\n",
      "  warnings.warn(\n",
      "/home/jovyan/.local/lib/python3.8/site-packages/statsmodels/tsa/holtwinters/model.py:920: ConvergenceWarning: Optimization failed to converge. Check mle_retvals.\n",
      "  warnings.warn(\n",
      "/home/jovyan/.local/lib/python3.8/site-packages/statsmodels/tsa/holtwinters/model.py:920: ConvergenceWarning: Optimization failed to converge. Check mle_retvals.\n",
      "  warnings.warn(\n",
      "/home/jovyan/.local/lib/python3.8/site-packages/statsmodels/tsa/holtwinters/model.py:920: ConvergenceWarning: Optimization failed to converge. Check mle_retvals.\n",
      "  warnings.warn(\n",
      "/home/jovyan/.local/lib/python3.8/site-packages/statsmodels/tsa/holtwinters/model.py:920: ConvergenceWarning: Optimization failed to converge. Check mle_retvals.\n",
      "  warnings.warn(\n",
      "/home/jovyan/.local/lib/python3.8/site-packages/statsmodels/tsa/holtwinters/model.py:920: ConvergenceWarning: Optimization failed to converge. Check mle_retvals.\n",
      "  warnings.warn(\n",
      "/home/jovyan/.local/lib/python3.8/site-packages/statsmodels/tsa/holtwinters/model.py:920: ConvergenceWarning: Optimization failed to converge. Check mle_retvals.\n",
      "  warnings.warn(\n",
      "/home/jovyan/.local/lib/python3.8/site-packages/statsmodels/tsa/holtwinters/model.py:920: ConvergenceWarning: Optimization failed to converge. Check mle_retvals.\n",
      "  warnings.warn(\n",
      "/home/jovyan/.local/lib/python3.8/site-packages/statsmodels/tsa/holtwinters/model.py:920: ConvergenceWarning: Optimization failed to converge. Check mle_retvals.\n",
      "  warnings.warn(\n",
      "/home/jovyan/.local/lib/python3.8/site-packages/statsmodels/tsa/holtwinters/model.py:920: ConvergenceWarning: Optimization failed to converge. Check mle_retvals.\n",
      "  warnings.warn(\n",
      "/home/jovyan/.local/lib/python3.8/site-packages/statsmodels/tsa/holtwinters/model.py:920: ConvergenceWarning: Optimization failed to converge. Check mle_retvals.\n",
      "  warnings.warn(\n",
      "/home/jovyan/.local/lib/python3.8/site-packages/statsmodels/tsa/holtwinters/model.py:920: ConvergenceWarning: Optimization failed to converge. Check mle_retvals.\n",
      "  warnings.warn(\n",
      "/home/jovyan/.local/lib/python3.8/site-packages/statsmodels/tsa/holtwinters/model.py:920: ConvergenceWarning: Optimization failed to converge. Check mle_retvals.\n",
      "  warnings.warn(\n",
      "/home/jovyan/.local/lib/python3.8/site-packages/statsmodels/tsa/holtwinters/model.py:920: ConvergenceWarning: Optimization failed to converge. Check mle_retvals.\n",
      "  warnings.warn(\n",
      "/home/jovyan/.local/lib/python3.8/site-packages/statsmodels/tsa/holtwinters/model.py:920: ConvergenceWarning: Optimization failed to converge. Check mle_retvals.\n",
      "  warnings.warn(\n",
      "/home/jovyan/.local/lib/python3.8/site-packages/statsmodels/tsa/holtwinters/model.py:920: ConvergenceWarning: Optimization failed to converge. Check mle_retvals.\n",
      "  warnings.warn(\n",
      "/home/jovyan/.local/lib/python3.8/site-packages/statsmodels/tsa/holtwinters/model.py:920: ConvergenceWarning: Optimization failed to converge. Check mle_retvals.\n",
      "  warnings.warn(\n",
      "/home/jovyan/.local/lib/python3.8/site-packages/statsmodels/tsa/holtwinters/model.py:920: ConvergenceWarning: Optimization failed to converge. Check mle_retvals.\n",
      "  warnings.warn(\n",
      "/home/jovyan/.local/lib/python3.8/site-packages/statsmodels/tsa/holtwinters/model.py:920: ConvergenceWarning: Optimization failed to converge. Check mle_retvals.\n",
      "  warnings.warn(\n",
      "/home/jovyan/.local/lib/python3.8/site-packages/statsmodels/tsa/holtwinters/model.py:920: ConvergenceWarning: Optimization failed to converge. Check mle_retvals.\n",
      "  warnings.warn(\n",
      "/home/jovyan/.local/lib/python3.8/site-packages/statsmodels/tsa/holtwinters/model.py:920: ConvergenceWarning: Optimization failed to converge. Check mle_retvals.\n",
      "  warnings.warn(\n",
      "/home/jovyan/.local/lib/python3.8/site-packages/statsmodels/tsa/holtwinters/model.py:920: ConvergenceWarning: Optimization failed to converge. Check mle_retvals.\n",
      "  warnings.warn(\n",
      "/home/jovyan/.local/lib/python3.8/site-packages/statsmodels/tsa/holtwinters/model.py:920: ConvergenceWarning: Optimization failed to converge. Check mle_retvals.\n",
      "  warnings.warn(\n",
      "/home/jovyan/.local/lib/python3.8/site-packages/statsmodels/tsa/holtwinters/model.py:920: ConvergenceWarning: Optimization failed to converge. Check mle_retvals.\n",
      "  warnings.warn(\n",
      "/home/jovyan/.local/lib/python3.8/site-packages/statsmodels/tsa/holtwinters/model.py:920: ConvergenceWarning: Optimization failed to converge. Check mle_retvals.\n",
      "  warnings.warn(\n",
      "/home/jovyan/.local/lib/python3.8/site-packages/statsmodels/tsa/holtwinters/model.py:920: ConvergenceWarning: Optimization failed to converge. Check mle_retvals.\n",
      "  warnings.warn(\n",
      "/home/jovyan/.local/lib/python3.8/site-packages/statsmodels/tsa/holtwinters/model.py:920: ConvergenceWarning: Optimization failed to converge. Check mle_retvals.\n",
      "  warnings.warn(\n",
      "/home/jovyan/.local/lib/python3.8/site-packages/statsmodels/tsa/holtwinters/model.py:920: ConvergenceWarning: Optimization failed to converge. Check mle_retvals.\n",
      "  warnings.warn(\n"
     ]
    },
    {
     "data": {
      "text/plain": [
       "ForecastingGridSearchCV(cv=SlidingWindowSplitter(fh=7, step_length=7, window_length=28),\n",
       "                        forecaster=MultiplexForecaster(forecasters=[('naive',\n",
       "                                                                     NaiveForecaster()),\n",
       "                                                                    ('ets',\n",
       "                                                                     ExponentialSmoothing(sp=7,\n",
       "                                                                                          trend='add')),\n",
       "                                                                    ('tbats',\n",
       "                                                                     TBATS(n_jobs=-1,\n",
       "                                                                           sp=7,\n",
       "                                                                           use_arma_errors=False,\n",
       "                                                                           use_box_cox=False,\n",
       "                                                                           use_damped_trend=False,\n",
       "                                                                           use_trend=False))]),\n",
       "                        param_grid={'selected_forecaster': ['ets', 'naive',\n",
       "                                                            'tbats']})"
      ]
     },
     "execution_count": 113,
     "metadata": {},
     "output_type": "execute_result"
    },
    {
     "name": "stdout",
     "output_type": "stream",
     "text": [
      "time: 8min 48s (started: 2021-08-08 14:59:18 +00:00)\n"
     ]
    }
   ],
   "source": [
    "gscv.fit(train['total_rides'].astype('float64'))"
   ]
  },
  {
   "cell_type": "code",
   "execution_count": 114,
   "id": "933fb39f",
   "metadata": {},
   "outputs": [
    {
     "data": {
      "text/plain": [
       "{'selected_forecaster': 'naive'}"
      ]
     },
     "execution_count": 114,
     "metadata": {},
     "output_type": "execute_result"
    },
    {
     "name": "stdout",
     "output_type": "stream",
     "text": [
      "time: 1.28 ms (started: 2021-08-08 15:08:06 +00:00)\n"
     ]
    }
   ],
   "source": [
    "gscv.best_params_"
   ]
  },
  {
   "cell_type": "markdown",
   "id": "5dfc7e9b",
   "metadata": {},
   "source": [
    "## Testing TSFresh"
   ]
  },
  {
   "cell_type": "code",
   "execution_count": 115,
   "id": "b4c3d279",
   "metadata": {},
   "outputs": [
    {
     "name": "stdout",
     "output_type": "stream",
     "text": [
      "time: 1.94 s (started: 2021-08-09 13:40:58 +00:00)\n"
     ]
    }
   ],
   "source": [
    "from sktime.transformations.panel.tsfresh import TSFreshFeatureExtractor"
   ]
  },
  {
   "cell_type": "code",
   "execution_count": 124,
   "id": "310c8206",
   "metadata": {},
   "outputs": [
    {
     "data": {
      "text/plain": [
       "(730,)"
      ]
     },
     "execution_count": 124,
     "metadata": {},
     "output_type": "execute_result"
    },
    {
     "name": "stdout",
     "output_type": "stream",
     "text": [
      "time: 1.6 ms (started: 2021-08-09 13:45:23 +00:00)\n"
     ]
    }
   ],
   "source": [
    "train[['total_rides']].pivot(values)"
   ]
  },
  {
   "cell_type": "code",
   "execution_count": null,
   "id": "af0b4f80",
   "metadata": {},
   "outputs": [],
   "source": [
    "reformat_frame = pd.DataFrame()"
   ]
  },
  {
   "cell_type": "code",
   "execution_count": 123,
   "id": "445498ea",
   "metadata": {},
   "outputs": [
    {
     "ename": "ValueError",
     "evalue": "If passed as a np.array, X must be a 3-dimensional array, but found shape: (730,)",
     "output_type": "error",
     "traceback": [
      "\u001b[0;31m---------------------------------------------------------------------------\u001b[0m",
      "\u001b[0;31mValueError\u001b[0m                                Traceback (most recent call last)",
      "\u001b[0;32m<ipython-input-123-edcc8670d16d>\u001b[0m in \u001b[0;36m<module>\u001b[0;34m\u001b[0m\n\u001b[1;32m      1\u001b[0m \u001b[0mt\u001b[0m \u001b[0;34m=\u001b[0m \u001b[0mTSFreshFeatureExtractor\u001b[0m\u001b[0;34m(\u001b[0m\u001b[0mshow_warnings\u001b[0m\u001b[0;34m=\u001b[0m\u001b[0;32mFalse\u001b[0m\u001b[0;34m)\u001b[0m\u001b[0;34m\u001b[0m\u001b[0;34m\u001b[0m\u001b[0m\n\u001b[0;32m----> 2\u001b[0;31m \u001b[0mXt\u001b[0m \u001b[0;34m=\u001b[0m \u001b[0mt\u001b[0m\u001b[0;34m.\u001b[0m\u001b[0mfit_transform\u001b[0m\u001b[0;34m(\u001b[0m\u001b[0mtrain\u001b[0m\u001b[0;34m[\u001b[0m\u001b[0;34m'total_rides'\u001b[0m\u001b[0;34m]\u001b[0m\u001b[0;34m.\u001b[0m\u001b[0mto_numpy\u001b[0m\u001b[0;34m(\u001b[0m\u001b[0;34m)\u001b[0m\u001b[0;34m)\u001b[0m \u001b[0;31m# train[['total_rides','total_takings']]\u001b[0m\u001b[0;34m\u001b[0m\u001b[0;34m\u001b[0m\u001b[0m\n\u001b[0m\u001b[1;32m      3\u001b[0m \u001b[0mXt\u001b[0m\u001b[0;34m.\u001b[0m\u001b[0mhead\u001b[0m\u001b[0;34m(\u001b[0m\u001b[0;34m)\u001b[0m\u001b[0;34m\u001b[0m\u001b[0;34m\u001b[0m\u001b[0m\n",
      "\u001b[0;32m~/.local/lib/python3.8/site-packages/sktime/transformations/base.py\u001b[0m in \u001b[0;36mfit_transform\u001b[0;34m(self, Z, X)\u001b[0m\n\u001b[1;32m     86\u001b[0m         \u001b[0;32mif\u001b[0m \u001b[0mX\u001b[0m \u001b[0;32mis\u001b[0m \u001b[0;32mNone\u001b[0m\u001b[0;34m:\u001b[0m\u001b[0;34m\u001b[0m\u001b[0;34m\u001b[0m\u001b[0m\n\u001b[1;32m     87\u001b[0m             \u001b[0;31m# Fit method of arity 1 (unsupervised transformation)\u001b[0m\u001b[0;34m\u001b[0m\u001b[0;34m\u001b[0m\u001b[0;34m\u001b[0m\u001b[0m\n\u001b[0;32m---> 88\u001b[0;31m             \u001b[0;32mreturn\u001b[0m \u001b[0mself\u001b[0m\u001b[0;34m.\u001b[0m\u001b[0mfit\u001b[0m\u001b[0;34m(\u001b[0m\u001b[0mZ\u001b[0m\u001b[0;34m)\u001b[0m\u001b[0;34m.\u001b[0m\u001b[0mtransform\u001b[0m\u001b[0;34m(\u001b[0m\u001b[0mZ\u001b[0m\u001b[0;34m)\u001b[0m\u001b[0;34m\u001b[0m\u001b[0;34m\u001b[0m\u001b[0m\n\u001b[0m\u001b[1;32m     89\u001b[0m         \u001b[0;32melse\u001b[0m\u001b[0;34m:\u001b[0m\u001b[0;34m\u001b[0m\u001b[0;34m\u001b[0m\u001b[0m\n\u001b[1;32m     90\u001b[0m             \u001b[0;31m# Fit method of arity 2 (supervised transformation)\u001b[0m\u001b[0;34m\u001b[0m\u001b[0;34m\u001b[0m\u001b[0;34m\u001b[0m\u001b[0m\n",
      "\u001b[0;32m~/.local/lib/python3.8/site-packages/sktime/transformations/panel/tsfresh.py\u001b[0m in \u001b[0;36mfit\u001b[0;34m(self, X, y)\u001b[0m\n\u001b[1;32m     65\u001b[0m         \u001b[0mself\u001b[0m \u001b[0;34m:\u001b[0m \u001b[0man\u001b[0m \u001b[0minstance\u001b[0m \u001b[0mof\u001b[0m \u001b[0mself\u001b[0m\u001b[0;34m\u001b[0m\u001b[0;34m\u001b[0m\u001b[0m\n\u001b[1;32m     66\u001b[0m         \"\"\"\n\u001b[0;32m---> 67\u001b[0;31m         \u001b[0mcheck_X\u001b[0m\u001b[0;34m(\u001b[0m\u001b[0mX\u001b[0m\u001b[0;34m,\u001b[0m \u001b[0mcoerce_to_pandas\u001b[0m\u001b[0;34m=\u001b[0m\u001b[0;32mTrue\u001b[0m\u001b[0;34m)\u001b[0m\u001b[0;34m\u001b[0m\u001b[0;34m\u001b[0m\u001b[0m\n\u001b[0m\u001b[1;32m     68\u001b[0m         \u001b[0mself\u001b[0m\u001b[0;34m.\u001b[0m\u001b[0mdefault_fc_parameters_\u001b[0m \u001b[0;34m=\u001b[0m \u001b[0mself\u001b[0m\u001b[0;34m.\u001b[0m\u001b[0m_get_extraction_params\u001b[0m\u001b[0;34m(\u001b[0m\u001b[0;34m)\u001b[0m\u001b[0;34m\u001b[0m\u001b[0;34m\u001b[0m\u001b[0m\n\u001b[1;32m     69\u001b[0m         \u001b[0mself\u001b[0m\u001b[0;34m.\u001b[0m\u001b[0m_is_fitted\u001b[0m \u001b[0;34m=\u001b[0m \u001b[0;32mTrue\u001b[0m\u001b[0;34m\u001b[0m\u001b[0;34m\u001b[0m\u001b[0m\n",
      "\u001b[0;32m~/.local/lib/python3.8/site-packages/sktime/utils/validation/panel.py\u001b[0m in \u001b[0;36mcheck_X\u001b[0;34m(X, enforce_univariate, enforce_min_instances, enforce_min_columns, coerce_to_numpy, coerce_to_pandas)\u001b[0m\n\u001b[1;32m     67\u001b[0m     \u001b[0;32mif\u001b[0m \u001b[0misinstance\u001b[0m\u001b[0;34m(\u001b[0m\u001b[0mX\u001b[0m\u001b[0;34m,\u001b[0m \u001b[0mnp\u001b[0m\u001b[0;34m.\u001b[0m\u001b[0mndarray\u001b[0m\u001b[0;34m)\u001b[0m\u001b[0;34m:\u001b[0m\u001b[0;34m\u001b[0m\u001b[0;34m\u001b[0m\u001b[0m\n\u001b[1;32m     68\u001b[0m         \u001b[0;32mif\u001b[0m \u001b[0;32mnot\u001b[0m \u001b[0mX\u001b[0m\u001b[0;34m.\u001b[0m\u001b[0mndim\u001b[0m \u001b[0;34m==\u001b[0m \u001b[0;36m3\u001b[0m\u001b[0;34m:\u001b[0m\u001b[0;34m\u001b[0m\u001b[0;34m\u001b[0m\u001b[0m\n\u001b[0;32m---> 69\u001b[0;31m             raise ValueError(\n\u001b[0m\u001b[1;32m     70\u001b[0m                 \u001b[0;34mf\"If passed as a np.array, X must be a 3-dimensional \"\u001b[0m\u001b[0;34m\u001b[0m\u001b[0;34m\u001b[0m\u001b[0m\n\u001b[1;32m     71\u001b[0m                 \u001b[0;34mf\"array, but found shape: {X.shape}\"\u001b[0m\u001b[0;34m\u001b[0m\u001b[0;34m\u001b[0m\u001b[0m\n",
      "\u001b[0;31mValueError\u001b[0m: If passed as a np.array, X must be a 3-dimensional array, but found shape: (730,)"
     ]
    },
    {
     "name": "stdout",
     "output_type": "stream",
     "text": [
      "time: 9.84 ms (started: 2021-08-09 13:45:10 +00:00)\n"
     ]
    }
   ],
   "source": [
    "t = TSFreshFeatureExtractor(show_warnings=False)\n",
    "Xt = t.fit_transform(train['total_rides']) # train[['total_rides','total_takings']]\n",
    "Xt.head()"
   ]
  },
  {
   "cell_type": "code",
   "execution_count": 120,
   "id": "ce2cd42e",
   "metadata": {},
   "outputs": [
    {
     "data": {
      "text/plain": [
       "pandas.core.series.Series"
      ]
     },
     "execution_count": 120,
     "metadata": {},
     "output_type": "execute_result"
    },
    {
     "name": "stdout",
     "output_type": "stream",
     "text": [
      "time: 6.07 ms (started: 2021-08-09 13:44:13 +00:00)\n"
     ]
    }
   ],
   "source": [
    "### Testing\n",
    "from sktime.datasets import load_airline\n",
    "y = load_airline()\n",
    "type(y.head())"
   ]
  }
 ],
 "metadata": {
  "kernelspec": {
   "display_name": "Python [conda env:spark]",
   "language": "python",
   "name": "conda-env-spark-py"
  },
  "language_info": {
   "codemirror_mode": {
    "name": "ipython",
    "version": 3
   },
   "file_extension": ".py",
   "mimetype": "text/x-python",
   "name": "python",
   "nbconvert_exporter": "python",
   "pygments_lexer": "ipython3",
   "version": "3.8.10"
  }
 },
 "nbformat": 4,
 "nbformat_minor": 5
}
