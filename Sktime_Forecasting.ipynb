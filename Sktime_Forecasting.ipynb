{
 "cells": [
  {
   "cell_type": "markdown",
   "id": "fa2e66c9",
   "metadata": {},
   "source": [
    "# Data Exploration"
   ]
  },
  {
   "cell_type": "code",
   "execution_count": 6,
   "id": "18be5c7e",
   "metadata": {},
   "outputs": [
    {
     "name": "stdout",
     "output_type": "stream",
     "text": [
      "time: 48.9 s (started: 2021-08-07 13:38:31 +00:00)\n"
     ]
    }
   ],
   "source": [
    "%run setup.py"
   ]
  },
  {
   "cell_type": "code",
   "execution_count": 7,
   "id": "35d8230c",
   "metadata": {},
   "outputs": [
    {
     "data": {
      "text/html": [
       "<div>\n",
       "<style scoped>\n",
       "    .dataframe tbody tr th:only-of-type {\n",
       "        vertical-align: middle;\n",
       "    }\n",
       "\n",
       "    .dataframe tbody tr th {\n",
       "        vertical-align: top;\n",
       "    }\n",
       "\n",
       "    .dataframe thead th {\n",
       "        text-align: right;\n",
       "    }\n",
       "</style>\n",
       "<table border=\"1\" class=\"dataframe\">\n",
       "  <thead>\n",
       "    <tr style=\"text-align: right;\">\n",
       "      <th></th>\n",
       "      <th>pickup_date</th>\n",
       "      <th>total_rides</th>\n",
       "      <th>total_takings</th>\n",
       "    </tr>\n",
       "  </thead>\n",
       "  <tbody>\n",
       "    <tr>\n",
       "      <th>0</th>\n",
       "      <td>2013-08-01</td>\n",
       "      <td>307272</td>\n",
       "      <td>4.567414e+06</td>\n",
       "    </tr>\n",
       "    <tr>\n",
       "      <th>1</th>\n",
       "      <td>2013-08-02</td>\n",
       "      <td>236761</td>\n",
       "      <td>3.534616e+06</td>\n",
       "    </tr>\n",
       "    <tr>\n",
       "      <th>2</th>\n",
       "      <td>2013-08-03</td>\n",
       "      <td>226554</td>\n",
       "      <td>3.182267e+06</td>\n",
       "    </tr>\n",
       "    <tr>\n",
       "      <th>3</th>\n",
       "      <td>2013-08-04</td>\n",
       "      <td>202310</td>\n",
       "      <td>3.073609e+06</td>\n",
       "    </tr>\n",
       "    <tr>\n",
       "      <th>4</th>\n",
       "      <td>2013-08-05</td>\n",
       "      <td>406487</td>\n",
       "      <td>6.657713e+06</td>\n",
       "    </tr>\n",
       "  </tbody>\n",
       "</table>\n",
       "</div>"
      ],
      "text/plain": [
       "  pickup_date  total_rides  total_takings\n",
       "0  2013-08-01       307272   4.567414e+06\n",
       "1  2013-08-02       236761   3.534616e+06\n",
       "2  2013-08-03       226554   3.182267e+06\n",
       "3  2013-08-04       202310   3.073609e+06\n",
       "4  2013-08-05       406487   6.657713e+06"
      ]
     },
     "execution_count": 7,
     "metadata": {},
     "output_type": "execute_result"
    },
    {
     "name": "stdout",
     "output_type": "stream",
     "text": [
      "time: 8.19 ms (started: 2021-08-07 13:39:20 +00:00)\n"
     ]
    }
   ],
   "source": [
    "train.head()"
   ]
  },
  {
   "cell_type": "markdown",
   "id": "87a7cd7d",
   "metadata": {},
   "source": [
    "## MLFlow Setup"
   ]
  },
  {
   "cell_type": "code",
   "execution_count": 8,
   "id": "89670a1f",
   "metadata": {},
   "outputs": [
    {
     "name": "stdout",
     "output_type": "stream",
     "text": [
      "time: 1.57 s (started: 2021-08-07 13:39:20 +00:00)\n"
     ]
    }
   ],
   "source": [
    "import mlflow"
   ]
  },
  {
   "cell_type": "code",
   "execution_count": 9,
   "id": "8ee091a0",
   "metadata": {},
   "outputs": [
    {
     "name": "stdout",
     "output_type": "stream",
     "text": [
      "Current tracking uri: http://192.168.64.21:5000/\n",
      "time: 460 µs (started: 2021-08-07 13:39:21 +00:00)\n"
     ]
    }
   ],
   "source": [
    "mlflow.set_tracking_uri(\"http://192.168.64.21:5000/\")\n",
    "tracking_uri = mlflow.get_tracking_uri()\n",
    "print(\"Current tracking uri: {}\".format(tracking_uri))"
   ]
  },
  {
   "cell_type": "markdown",
   "id": "0261ace3",
   "metadata": {},
   "source": [
    "The taxi_daily_forecast experiment has already been created"
   ]
  },
  {
   "cell_type": "code",
   "execution_count": 19,
   "id": "0ddcf719",
   "metadata": {},
   "outputs": [
    {
     "name": "stdout",
     "output_type": "stream",
     "text": [
      "time: 478 µs (started: 2021-08-07 14:05:47 +00:00)\n"
     ]
    }
   ],
   "source": [
    "from sktime.forecasting.model_selection import SlidingWindowSplitter\n",
    "from sktime.forecasting.ets import AutoETS\n",
    "import numpy as np"
   ]
  },
  {
   "cell_type": "code",
   "execution_count": null,
   "id": "6a1db962",
   "metadata": {},
   "outputs": [],
   "source": [
    "# forescasting horizon\n",
    "# window_length\n",
    "# step_length"
   ]
  },
  {
   "cell_type": "code",
   "execution_count": 15,
   "id": "c48ea525",
   "metadata": {},
   "outputs": [
    {
     "name": "stdout",
     "output_type": "stream",
     "text": [
      "time: 261 µs (started: 2021-08-07 14:04:12 +00:00)\n"
     ]
    }
   ],
   "source": [
    "cv = SlidingWindowSplitter(fh=7, window_length=28, step_length=7)"
   ]
  },
  {
   "cell_type": "code",
   "execution_count": 59,
   "id": "71193d98",
   "metadata": {},
   "outputs": [
    {
     "data": {
      "text/plain": [
       "array([ 27,  34,  41,  48,  55,  62,  69,  76,  83,  90,  97, 104, 111,\n",
       "       118, 125, 132, 139, 146, 153, 160, 167, 174, 181, 188, 195, 202,\n",
       "       209, 216, 223, 230, 237, 244, 251, 258, 265, 272, 279, 286, 293,\n",
       "       300, 307, 314, 321, 328, 335, 342, 349, 356, 363, 370, 377, 384,\n",
       "       391, 398, 405, 412, 419, 426, 433, 440, 447, 454, 461, 468, 475,\n",
       "       482, 489, 496, 503, 510, 517, 524, 531, 538, 545, 552, 559, 566,\n",
       "       573, 580, 587, 594, 601, 608, 615, 622, 629, 636, 643, 650, 657,\n",
       "       664, 671, 678, 685, 692, 699, 706, 713, 720])"
      ]
     },
     "execution_count": 59,
     "metadata": {},
     "output_type": "execute_result"
    },
    {
     "name": "stdout",
     "output_type": "stream",
     "text": [
      "time: 3.37 ms (started: 2021-08-07 15:36:23 +00:00)\n"
     ]
    }
   ],
   "source": [
    "# check the split points\n",
    "cv.get_cutoffs(y=train['total_rides'])"
   ]
  },
  {
   "cell_type": "code",
   "execution_count": 61,
   "id": "b8e6a051",
   "metadata": {},
   "outputs": [
    {
     "data": {
      "text/plain": [
       "100"
      ]
     },
     "execution_count": 61,
     "metadata": {},
     "output_type": "execute_result"
    },
    {
     "name": "stdout",
     "output_type": "stream",
     "text": [
      "time: 2.92 ms (started: 2021-08-07 15:40:23 +00:00)\n"
     ]
    }
   ],
   "source": [
    "# check the number of splits\n",
    "cv.get_n_splits(y=train['total_rides'])"
   ]
  },
  {
   "cell_type": "markdown",
   "id": "58fdd988",
   "metadata": {},
   "source": [
    "## Fitting Models"
   ]
  },
  {
   "cell_type": "code",
   "execution_count": 34,
   "id": "e84302d9",
   "metadata": {},
   "outputs": [
    {
     "name": "stdout",
     "output_type": "stream",
     "text": [
      "time: 369 µs (started: 2021-08-07 14:13:55 +00:00)\n"
     ]
    }
   ],
   "source": [
    "from sktime.forecasting.model_evaluation import evaluate"
   ]
  },
  {
   "cell_type": "code",
   "execution_count": 21,
   "id": "72cbbd2f",
   "metadata": {},
   "outputs": [
    {
     "name": "stdout",
     "output_type": "stream",
     "text": [
      "time: 269 µs (started: 2021-08-07 14:09:52 +00:00)\n"
     ]
    }
   ],
   "source": [
    "fh = np.arange(1, 7)"
   ]
  },
  {
   "cell_type": "code",
   "execution_count": 51,
   "id": "36989e3c",
   "metadata": {},
   "outputs": [
    {
     "name": "stdout",
     "output_type": "stream",
     "text": [
      "time: 539 µs (started: 2021-08-07 15:21:28 +00:00)\n"
     ]
    }
   ],
   "source": [
    "forecaster = AutoETS(auto=True, sp=7, n_jobs=-1)"
   ]
  },
  {
   "cell_type": "code",
   "execution_count": 52,
   "id": "f5a4a363",
   "metadata": {},
   "outputs": [
    {
     "name": "stdout",
     "output_type": "stream",
     "text": [
      "time: 9.35 s (started: 2021-08-07 15:21:32 +00:00)\n"
     ]
    }
   ],
   "source": [
    "evaluation_results = evaluate(forecaster=forecaster, y=train['total_rides'].astype('float64'), \n",
    "         cv=cv, strategy=\"refit\", return_data=True)"
   ]
  },
  {
   "cell_type": "code",
   "execution_count": 53,
   "id": "c02205b0",
   "metadata": {},
   "outputs": [
    {
     "data": {
      "text/plain": [
       "Index(['test_MeanAbsolutePercentageError', 'fit_time', 'pred_time',\n",
       "       'len_train_window', 'cutoff', 'y_train', 'y_test', 'y_pred'],\n",
       "      dtype='object')"
      ]
     },
     "execution_count": 53,
     "metadata": {},
     "output_type": "execute_result"
    },
    {
     "name": "stdout",
     "output_type": "stream",
     "text": [
      "time: 1.76 ms (started: 2021-08-07 15:21:41 +00:00)\n"
     ]
    }
   ],
   "source": [
    "evaluation_results.columns"
   ]
  },
  {
   "cell_type": "code",
   "execution_count": 55,
   "id": "bd96e2e9",
   "metadata": {},
   "outputs": [
    {
     "data": {
      "text/html": [
       "<div>\n",
       "<style scoped>\n",
       "    .dataframe tbody tr th:only-of-type {\n",
       "        vertical-align: middle;\n",
       "    }\n",
       "\n",
       "    .dataframe tbody tr th {\n",
       "        vertical-align: top;\n",
       "    }\n",
       "\n",
       "    .dataframe thead th {\n",
       "        text-align: right;\n",
       "    }\n",
       "</style>\n",
       "<table border=\"1\" class=\"dataframe\">\n",
       "  <thead>\n",
       "    <tr style=\"text-align: right;\">\n",
       "      <th></th>\n",
       "      <th>test_MeanAbsolutePercentageError</th>\n",
       "      <th>fit_time</th>\n",
       "      <th>pred_time</th>\n",
       "      <th>len_train_window</th>\n",
       "      <th>cutoff</th>\n",
       "      <th>y_train</th>\n",
       "      <th>y_test</th>\n",
       "      <th>y_pred</th>\n",
       "    </tr>\n",
       "  </thead>\n",
       "  <tbody>\n",
       "    <tr>\n",
       "      <th>0</th>\n",
       "      <td>0.035610</td>\n",
       "      <td>1.449914</td>\n",
       "      <td>0.002463</td>\n",
       "      <td>28</td>\n",
       "      <td>27.0</td>\n",
       "      <td>0     307272.0\n",
       "1     236761.0\n",
       "2     226554.0\n",
       "3...</td>\n",
       "      <td>34    454753.0\n",
       "Name: total_rides, dtype: float64</td>\n",
       "      <td>34    438842.504435\n",
       "dtype: float64</td>\n",
       "    </tr>\n",
       "    <tr>\n",
       "      <th>1</th>\n",
       "      <td>0.176606</td>\n",
       "      <td>0.775813</td>\n",
       "      <td>0.002142</td>\n",
       "      <td>28</td>\n",
       "      <td>34.0</td>\n",
       "      <td>7     437214.0\n",
       "8     489393.0\n",
       "9     445096.0\n",
       "1...</td>\n",
       "      <td>41    502234.0\n",
       "Name: total_rides, dtype: float64</td>\n",
       "      <td>41    420733.058656\n",
       "dtype: float64</td>\n",
       "    </tr>\n",
       "    <tr>\n",
       "      <th>2</th>\n",
       "      <td>0.037050</td>\n",
       "      <td>0.487826</td>\n",
       "      <td>0.001859</td>\n",
       "      <td>28</td>\n",
       "      <td>41.0</td>\n",
       "      <td>14    473737.0\n",
       "15    450037.0\n",
       "16    438308.0\n",
       "1...</td>\n",
       "      <td>48    486310.0\n",
       "Name: total_rides, dtype: float64</td>\n",
       "      <td>48    504667.668809\n",
       "dtype: float64</td>\n",
       "    </tr>\n",
       "    <tr>\n",
       "      <th>3</th>\n",
       "      <td>0.050979</td>\n",
       "      <td>0.060193</td>\n",
       "      <td>0.001745</td>\n",
       "      <td>28</td>\n",
       "      <td>48.0</td>\n",
       "      <td>21    471540.0\n",
       "22    464846.0\n",
       "23    448911.0\n",
       "2...</td>\n",
       "      <td>55    464088.0\n",
       "Name: total_rides, dtype: float64</td>\n",
       "      <td>55    488365.658991\n",
       "dtype: float64</td>\n",
       "    </tr>\n",
       "    <tr>\n",
       "      <th>4</th>\n",
       "      <td>0.030689</td>\n",
       "      <td>0.068946</td>\n",
       "      <td>0.002405</td>\n",
       "      <td>28</td>\n",
       "      <td>55.0</td>\n",
       "      <td>28    456095.0\n",
       "29    457632.0\n",
       "30    435400.0\n",
       "3...</td>\n",
       "      <td>62    478552.0\n",
       "Name: total_rides, dtype: float64</td>\n",
       "      <td>62    464087.692751\n",
       "dtype: float64</td>\n",
       "    </tr>\n",
       "  </tbody>\n",
       "</table>\n",
       "</div>"
      ],
      "text/plain": [
       "   test_MeanAbsolutePercentageError  fit_time  pred_time  len_train_window  \\\n",
       "0                          0.035610  1.449914   0.002463                28   \n",
       "1                          0.176606  0.775813   0.002142                28   \n",
       "2                          0.037050  0.487826   0.001859                28   \n",
       "3                          0.050979  0.060193   0.001745                28   \n",
       "4                          0.030689  0.068946   0.002405                28   \n",
       "\n",
       "   cutoff                                            y_train  \\\n",
       "0    27.0  0     307272.0\n",
       "1     236761.0\n",
       "2     226554.0\n",
       "3...   \n",
       "1    34.0  7     437214.0\n",
       "8     489393.0\n",
       "9     445096.0\n",
       "1...   \n",
       "2    41.0  14    473737.0\n",
       "15    450037.0\n",
       "16    438308.0\n",
       "1...   \n",
       "3    48.0  21    471540.0\n",
       "22    464846.0\n",
       "23    448911.0\n",
       "2...   \n",
       "4    55.0  28    456095.0\n",
       "29    457632.0\n",
       "30    435400.0\n",
       "3...   \n",
       "\n",
       "                                             y_test  \\\n",
       "0  34    454753.0\n",
       "Name: total_rides, dtype: float64   \n",
       "1  41    502234.0\n",
       "Name: total_rides, dtype: float64   \n",
       "2  48    486310.0\n",
       "Name: total_rides, dtype: float64   \n",
       "3  55    464088.0\n",
       "Name: total_rides, dtype: float64   \n",
       "4  62    478552.0\n",
       "Name: total_rides, dtype: float64   \n",
       "\n",
       "                               y_pred  \n",
       "0  34    438842.504435\n",
       "dtype: float64  \n",
       "1  41    420733.058656\n",
       "dtype: float64  \n",
       "2  48    504667.668809\n",
       "dtype: float64  \n",
       "3  55    488365.658991\n",
       "dtype: float64  \n",
       "4  62    464087.692751\n",
       "dtype: float64  "
      ]
     },
     "execution_count": 55,
     "metadata": {},
     "output_type": "execute_result"
    },
    {
     "name": "stdout",
     "output_type": "stream",
     "text": [
      "time: 19.6 ms (started: 2021-08-07 15:24:23 +00:00)\n"
     ]
    }
   ],
   "source": [
    "evaluation_results.head()"
   ]
  },
  {
   "cell_type": "code",
   "execution_count": 54,
   "id": "b55acbcf",
   "metadata": {},
   "outputs": [
    {
     "data": {
      "text/plain": [
       "34    454753.0\n",
       "Name: total_rides, dtype: float64"
      ]
     },
     "execution_count": 54,
     "metadata": {},
     "output_type": "execute_result"
    },
    {
     "name": "stdout",
     "output_type": "stream",
     "text": [
      "time: 2.13 ms (started: 2021-08-07 15:21:57 +00:00)\n"
     ]
    }
   ],
   "source": [
    "evaluation_results.y_test[0]"
   ]
  },
  {
   "cell_type": "code",
   "execution_count": 44,
   "id": "5ac3e1a1",
   "metadata": {},
   "outputs": [
    {
     "data": {
      "text/plain": [
       "RangeIndex(start=0, stop=100, step=1)"
      ]
     },
     "execution_count": 44,
     "metadata": {},
     "output_type": "execute_result"
    },
    {
     "name": "stdout",
     "output_type": "stream",
     "text": [
      "time: 1.44 ms (started: 2021-08-07 15:02:23 +00:00)\n"
     ]
    }
   ],
   "source": [
    "evaluation_results.index"
   ]
  },
  {
   "cell_type": "markdown",
   "id": "77711e35",
   "metadata": {},
   "source": [
    "## Evaluating the results"
   ]
  },
  {
   "cell_type": "code",
   "execution_count": 43,
   "id": "c184b9eb",
   "metadata": {},
   "outputs": [
    {
     "data": {
      "text/plain": [
       "<AxesSubplot:>"
      ]
     },
     "execution_count": 43,
     "metadata": {},
     "output_type": "execute_result"
    },
    {
     "data": {
      "image/png": "[encoded data removed]",
      "text/plain": [
       "<Figure size 432x288 with 1 Axes>"
      ]
     },
     "metadata": {
      "needs_background": "light"
     },
     "output_type": "display_data"
    },
    {
     "name": "stdout",
     "output_type": "stream",
     "text": [
      "time: 93.9 ms (started: 2021-08-07 15:01:59 +00:00)\n"
     ]
    }
   ],
   "source": [
    "# histogram of fit loops\n",
    "evaluation_results.test_MeanAbsolutePercentageError.hist(bins=20)"
   ]
  },
  {
   "cell_type": "code",
   "execution_count": null,
   "id": "8f6ec4bf",
   "metadata": {},
   "outputs": [],
   "source": []
  }
 ],
 "metadata": {
  "kernelspec": {
   "display_name": "Python [conda env:spark]",
   "language": "python",
   "name": "conda-env-spark-py"
  },
  "language_info": {
   "codemirror_mode": {
    "name": "ipython",
    "version": 3
   },
   "file_extension": ".py",
   "mimetype": "text/x-python",
   "name": "python",
   "nbconvert_exporter": "python",
   "pygments_lexer": "ipython3",
   "version": "3.8.10"
  }
 },
 "nbformat": 4,
 "nbformat_minor": 5
}
