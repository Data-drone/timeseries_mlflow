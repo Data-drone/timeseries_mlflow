{
 "cells": [
  {
   "cell_type": "markdown",
   "id": "8f0460a4",
   "metadata": {},
   "source": [
    "# Data Exploration"
   ]
  },
  {
   "cell_type": "code",
   "execution_count": 6,
   "id": "d2bb65a4",
   "metadata": {},
   "outputs": [
    {
     "name": "stdout",
     "output_type": "stream",
     "text": [
      "time: 48.9 s (started: 2021-08-07 13:38:31 +00:00)\n"
     ]
    }
   ],
   "source": [
    "%run setup.py"
   ]
  },
  {
   "cell_type": "code",
   "execution_count": 7,
   "id": "5d2ba81f",
   "metadata": {},
   "outputs": [
    {
     "data": {
      "text/html": [
       "<div>\n",
       "<style scoped>\n",
       "    .dataframe tbody tr th:only-of-type {\n",
       "        vertical-align: middle;\n",
       "    }\n",
       "\n",
       "    .dataframe tbody tr th {\n",
       "        vertical-align: top;\n",
       "    }\n",
       "\n",
       "    .dataframe thead th {\n",
       "        text-align: right;\n",
       "    }\n",
       "</style>\n",
       "<table border=\"1\" class=\"dataframe\">\n",
       "  <thead>\n",
       "    <tr style=\"text-align: right;\">\n",
       "      <th></th>\n",
       "      <th>pickup_date</th>\n",
       "      <th>total_rides</th>\n",
       "      <th>total_takings</th>\n",
       "    </tr>\n",
       "  </thead>\n",
       "  <tbody>\n",
       "    <tr>\n",
       "      <th>0</th>\n",
       "      <td>2013-08-01</td>\n",
       "      <td>307272</td>\n",
       "      <td>4.567414e+06</td>\n",
       "    </tr>\n",
       "    <tr>\n",
       "      <th>1</th>\n",
       "      <td>2013-08-02</td>\n",
       "      <td>236761</td>\n",
       "      <td>3.534616e+06</td>\n",
       "    </tr>\n",
       "    <tr>\n",
       "      <th>2</th>\n",
       "      <td>2013-08-03</td>\n",
       "      <td>226554</td>\n",
       "      <td>3.182267e+06</td>\n",
       "    </tr>\n",
       "    <tr>\n",
       "      <th>3</th>\n",
       "      <td>2013-08-04</td>\n",
       "      <td>202310</td>\n",
       "      <td>3.073609e+06</td>\n",
       "    </tr>\n",
       "    <tr>\n",
       "      <th>4</th>\n",
       "      <td>2013-08-05</td>\n",
       "      <td>406487</td>\n",
       "      <td>6.657713e+06</td>\n",
       "    </tr>\n",
       "  </tbody>\n",
       "</table>\n",
       "</div>"
      ],
      "text/plain": [
       "  pickup_date  total_rides  total_takings\n",
       "0  2013-08-01       307272   4.567414e+06\n",
       "1  2013-08-02       236761   3.534616e+06\n",
       "2  2013-08-03       226554   3.182267e+06\n",
       "3  2013-08-04       202310   3.073609e+06\n",
       "4  2013-08-05       406487   6.657713e+06"
      ]
     },
     "execution_count": 7,
     "metadata": {},
     "output_type": "execute_result"
    },
    {
     "name": "stdout",
     "output_type": "stream",
     "text": [
      "time: 8.19 ms (started: 2021-08-07 13:39:20 +00:00)\n"
     ]
    }
   ],
   "source": [
    "train.head()"
   ]
  },
  {
   "cell_type": "markdown",
   "id": "327ae7aa",
   "metadata": {},
   "source": [
    "## MLFlow Setup"
   ]
  },
  {
   "cell_type": "code",
   "execution_count": 8,
   "id": "05ec4d64",
   "metadata": {},
   "outputs": [
    {
     "name": "stdout",
     "output_type": "stream",
     "text": [
      "time: 1.57 s (started: 2021-08-07 13:39:20 +00:00)\n"
     ]
    }
   ],
   "source": [
    "import mlflow"
   ]
  },
  {
   "cell_type": "code",
   "execution_count": 9,
   "id": "dce49978",
   "metadata": {},
   "outputs": [
    {
     "name": "stdout",
     "output_type": "stream",
     "text": [
      "Current tracking uri: http://192.168.64.21:5000/\n",
      "time: 460 µs (started: 2021-08-07 13:39:21 +00:00)\n"
     ]
    }
   ],
   "source": [
    "mlflow.set_tracking_uri(\"http://192.168.64.21:5000/\")\n",
    "tracking_uri = mlflow.get_tracking_uri()\n",
    "print(\"Current tracking uri: {}\".format(tracking_uri))"
   ]
  },
  {
   "cell_type": "markdown",
   "id": "5feb2dfd",
   "metadata": {},
   "source": [
    "The taxi_daily_forecast experiment has already been created"
   ]
  },
  {
   "cell_type": "code",
   "execution_count": 12,
   "id": "783a098e",
   "metadata": {},
   "outputs": [
    {
     "data": {
      "text/html": [
       "<div>\n",
       "<style scoped>\n",
       "    .dataframe tbody tr th:only-of-type {\n",
       "        vertical-align: middle;\n",
       "    }\n",
       "\n",
       "    .dataframe tbody tr th {\n",
       "        vertical-align: top;\n",
       "    }\n",
       "\n",
       "    .dataframe thead th {\n",
       "        text-align: right;\n",
       "    }\n",
       "</style>\n",
       "<table border=\"1\" class=\"dataframe\">\n",
       "  <thead>\n",
       "    <tr style=\"text-align: right;\">\n",
       "      <th></th>\n",
       "      <th>pickup_date</th>\n",
       "      <th>total_rides</th>\n",
       "      <th>total_takings</th>\n",
       "    </tr>\n",
       "  </thead>\n",
       "  <tbody>\n",
       "    <tr>\n",
       "      <th>0</th>\n",
       "      <td>2013-08-01</td>\n",
       "      <td>307272</td>\n",
       "      <td>4.567414e+06</td>\n",
       "    </tr>\n",
       "    <tr>\n",
       "      <th>1</th>\n",
       "      <td>2013-08-02</td>\n",
       "      <td>236761</td>\n",
       "      <td>3.534616e+06</td>\n",
       "    </tr>\n",
       "    <tr>\n",
       "      <th>2</th>\n",
       "      <td>2013-08-03</td>\n",
       "      <td>226554</td>\n",
       "      <td>3.182267e+06</td>\n",
       "    </tr>\n",
       "    <tr>\n",
       "      <th>3</th>\n",
       "      <td>2013-08-04</td>\n",
       "      <td>202310</td>\n",
       "      <td>3.073609e+06</td>\n",
       "    </tr>\n",
       "    <tr>\n",
       "      <th>4</th>\n",
       "      <td>2013-08-05</td>\n",
       "      <td>406487</td>\n",
       "      <td>6.657713e+06</td>\n",
       "    </tr>\n",
       "  </tbody>\n",
       "</table>\n",
       "</div>"
      ],
      "text/plain": [
       "  pickup_date  total_rides  total_takings\n",
       "0  2013-08-01       307272   4.567414e+06\n",
       "1  2013-08-02       236761   3.534616e+06\n",
       "2  2013-08-03       226554   3.182267e+06\n",
       "3  2013-08-04       202310   3.073609e+06\n",
       "4  2013-08-05       406487   6.657713e+06"
      ]
     },
     "execution_count": 12,
     "metadata": {},
     "output_type": "execute_result"
    },
    {
     "name": "stdout",
     "output_type": "stream",
     "text": [
      "time: 6.13 ms (started: 2021-08-07 13:41:50 +00:00)\n"
     ]
    }
   ],
   "source": [
    "train.head(5)"
   ]
  },
  {
   "cell_type": "code",
   "execution_count": 13,
   "id": "86040b97",
   "metadata": {},
   "outputs": [
    {
     "name": "stdout",
     "output_type": "stream",
     "text": [
      "time: 486 ms (started: 2021-08-07 13:45:04 +00:00)\n"
     ]
    }
   ],
   "source": [
    "from sktime.forecasting.model_selection import SlidingWindowSplitter"
   ]
  },
  {
   "cell_type": "code",
   "execution_count": null,
   "id": "798f4267",
   "metadata": {},
   "outputs": [],
   "source": [
    "# forescasting horizon\n",
    "# window_length\n",
    "# step_length"
   ]
  },
  {
   "cell_type": "code",
   "execution_count": 14,
   "id": "abc2be15",
   "metadata": {},
   "outputs": [
    {
     "data": {
      "text/plain": [
       "SlidingWindowSplitter(fh=7, step_length=7, window_length=28)"
      ]
     },
     "execution_count": 14,
     "metadata": {},
     "output_type": "execute_result"
    },
    {
     "name": "stdout",
     "output_type": "stream",
     "text": [
      "time: 2.47 ms (started: 2021-08-07 13:47:37 +00:00)\n"
     ]
    }
   ],
   "source": [
    "SlidingWindowSplitter(fh=7, window_length=28, step_length=7)"
   ]
  }
 ],
 "metadata": {
  "kernelspec": {
   "display_name": "Python [conda env:spark]",
   "language": "python",
   "name": "conda-env-spark-py"
  },
  "language_info": {
   "codemirror_mode": {
    "name": "ipython",
    "version": 3
   },
   "file_extension": ".py",
   "mimetype": "text/x-python",
   "name": "python",
   "nbconvert_exporter": "python",
   "pygments_lexer": "ipython3",
   "version": "3.8.10"
  }
 },
 "nbformat": 4,
 "nbformat_minor": 5
}
