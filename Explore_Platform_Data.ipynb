{
 "cells": [
  {
   "cell_type": "markdown",
   "id": "db0b45e5",
   "metadata": {},
   "source": [
    "# Data Exploration"
   ]
  },
  {
   "cell_type": "code",
   "execution_count": 2,
   "id": "ecccb64d",
   "metadata": {},
   "outputs": [
    {
     "name": "stdout",
     "output_type": "stream",
     "text": [
      "The autotime extension is already loaded. To reload it, use:\n",
      "  %reload_ext autotime\n",
      "time: 583 µs (started: 2021-07-25 14:07:17 +00:00)\n"
     ]
    }
   ],
   "source": [
    "%load_ext autotime"
   ]
  },
  {
   "cell_type": "code",
   "execution_count": 1,
   "id": "28b1bc5b",
   "metadata": {},
   "outputs": [],
   "source": [
    "from setup import start_spark, extract_data\n",
    "\n",
    "spark = start_spark(sesh_name='Jupyter Explore Data')"
   ]
  },
  {
   "cell_type": "code",
   "execution_count": 2,
   "id": "15b66e0f",
   "metadata": {},
   "outputs": [
    {
     "data": {
      "text/plain": [
       "[Row(namespace='clean'),\n",
       " Row(namespace='default'),\n",
       " Row(namespace='nyc_taxi_analytics'),\n",
       " Row(namespace='processed'),\n",
       " Row(namespace='raw')]"
      ]
     },
     "execution_count": 2,
     "metadata": {},
     "output_type": "execute_result"
    }
   ],
   "source": [
    "spark.sql(\"SHOW DATABASES\").collect()"
   ]
  },
  {
   "cell_type": "markdown",
   "id": "a9b834b6",
   "metadata": {},
   "source": [
    "# Check Tables and Schemas"
   ]
  },
  {
   "cell_type": "code",
   "execution_count": 6,
   "id": "ed80f9f4",
   "metadata": {},
   "outputs": [
    {
     "data": {
      "text/plain": [
       "[Row(database_description_item='Database Name', database_description_value='raw'),\n",
       " Row(database_description_item='Comment', database_description_value=''),\n",
       " Row(database_description_item='Location', database_description_value='s3a://storage/warehouse/raw'),\n",
       " Row(database_description_item='Owner', database_description_value='root')]"
      ]
     },
     "execution_count": 6,
     "metadata": {},
     "output_type": "execute_result"
    },
    {
     "name": "stdout",
     "output_type": "stream",
     "text": [
      "time: 46.6 ms (started: 2021-07-25 09:22:10 +00:00)\n"
     ]
    }
   ],
   "source": [
    "spark.sql(\"DESCRIBE DATABASE raw\").collect()"
   ]
  },
  {
   "cell_type": "code",
   "execution_count": 7,
   "id": "6cf78e85",
   "metadata": {},
   "outputs": [
    {
     "data": {
      "text/plain": [
       "[Row(database='raw', tableName='green_merged', isTemporary=False),\n",
       " Row(database='raw', tableName='green_taxi_2015_h1', isTemporary=False),\n",
       " Row(database='raw', tableName='green_taxi_2015_h2_2016_h1', isTemporary=False),\n",
       " Row(database='raw', tableName='green_taxi_pre2015', isTemporary=False),\n",
       " Row(database='raw', tableName='yellow_merged', isTemporary=False),\n",
       " Row(database='raw', tableName='yellow_taxi_2015_2016_h1', isTemporary=False),\n",
       " Row(database='raw', tableName='yellow_taxi_pre2015', isTemporary=False)]"
      ]
     },
     "execution_count": 7,
     "metadata": {},
     "output_type": "execute_result"
    },
    {
     "name": "stdout",
     "output_type": "stream",
     "text": [
      "time: 44.7 ms (started: 2021-07-25 09:22:10 +00:00)\n"
     ]
    }
   ],
   "source": [
    "spark.sql(\"SHOW TABLES IN raw\").collect()"
   ]
  },
  {
   "cell_type": "code",
   "execution_count": 8,
   "id": "989543d8",
   "metadata": {},
   "outputs": [
    {
     "data": {
      "text/plain": [
       "[Row(col_name='vendor_id', data_type='string', comment=''),\n",
       " Row(col_name='pickup_datetime', data_type='string', comment=''),\n",
       " Row(col_name='dropoff_datetime', data_type='string', comment=''),\n",
       " Row(col_name='passenger_count', data_type='string', comment=''),\n",
       " Row(col_name='trip_distance', data_type='string', comment=''),\n",
       " Row(col_name='pickup_longitude', data_type='string', comment=''),\n",
       " Row(col_name='pickup_latitude', data_type='string', comment=''),\n",
       " Row(col_name='rate_code', data_type='string', comment=''),\n",
       " Row(col_name='store_and_fwd_flag', data_type='string', comment=''),\n",
       " Row(col_name='dropoff_longitude', data_type='string', comment=''),\n",
       " Row(col_name='dropoff_latitude', data_type='string', comment=''),\n",
       " Row(col_name='payment_type', data_type='string', comment=''),\n",
       " Row(col_name='fare_amount', data_type='string', comment=''),\n",
       " Row(col_name='surcharge', data_type='string', comment=''),\n",
       " Row(col_name='mta_tax', data_type='string', comment=''),\n",
       " Row(col_name='tip_amount', data_type='string', comment=''),\n",
       " Row(col_name='tolls_amount', data_type='string', comment=''),\n",
       " Row(col_name='total_amount', data_type='string', comment=''),\n",
       " Row(col_name='', data_type='', comment=''),\n",
       " Row(col_name='# Partitioning', data_type='', comment=''),\n",
       " Row(col_name='Not partitioned', data_type='', comment='')]"
      ]
     },
     "execution_count": 8,
     "metadata": {},
     "output_type": "execute_result"
    },
    {
     "name": "stdout",
     "output_type": "stream",
     "text": [
      "time: 10 s (started: 2021-07-25 09:22:10 +00:00)\n"
     ]
    }
   ],
   "source": [
    "spark.sql(\"DESCRIBE TABLE raw.yellow_taxi_pre2015\").collect()"
   ]
  },
  {
   "cell_type": "code",
   "execution_count": 9,
   "id": "1faf3abc",
   "metadata": {},
   "outputs": [
    {
     "data": {
      "text/plain": [
       "[Row(col_name='VendorID', data_type='string', comment=''),\n",
       " Row(col_name='tpep_pickup_datetime', data_type='string', comment=''),\n",
       " Row(col_name='tpep_dropoff_datetime', data_type='string', comment=''),\n",
       " Row(col_name='passenger_count', data_type='string', comment=''),\n",
       " Row(col_name='trip_distance', data_type='string', comment=''),\n",
       " Row(col_name='pickup_longitude', data_type='string', comment=''),\n",
       " Row(col_name='pickup_latitude', data_type='string', comment=''),\n",
       " Row(col_name='RatecodeID', data_type='string', comment=''),\n",
       " Row(col_name='store_and_fwd_flag', data_type='string', comment=''),\n",
       " Row(col_name='dropoff_longitude', data_type='string', comment=''),\n",
       " Row(col_name='dropoff_latitude', data_type='string', comment=''),\n",
       " Row(col_name='payment_type', data_type='string', comment=''),\n",
       " Row(col_name='fare_amount', data_type='string', comment=''),\n",
       " Row(col_name='extra', data_type='string', comment=''),\n",
       " Row(col_name='mta_tax', data_type='string', comment=''),\n",
       " Row(col_name='tip_amount', data_type='string', comment=''),\n",
       " Row(col_name='tolls_amount', data_type='string', comment=''),\n",
       " Row(col_name='improvement_surcharge', data_type='string', comment=''),\n",
       " Row(col_name='total_amount', data_type='string', comment=''),\n",
       " Row(col_name='', data_type='', comment=''),\n",
       " Row(col_name='# Partitioning', data_type='', comment=''),\n",
       " Row(col_name='Not partitioned', data_type='', comment='')]"
      ]
     },
     "execution_count": 9,
     "metadata": {},
     "output_type": "execute_result"
    },
    {
     "name": "stdout",
     "output_type": "stream",
     "text": [
      "time: 2.17 s (started: 2021-07-25 09:22:20 +00:00)\n"
     ]
    }
   ],
   "source": [
    "spark.sql(\"DESCRIBE TABLE raw.yellow_taxi_2015_2016_h1\").collect()"
   ]
  },
  {
   "cell_type": "markdown",
   "id": "436a52a1",
   "metadata": {},
   "source": [
    "Inspect the new Yellow data"
   ]
  },
  {
   "cell_type": "code",
   "execution_count": 10,
   "id": "4670971f",
   "metadata": {},
   "outputs": [
    {
     "name": "stdout",
     "output_type": "stream",
     "text": [
      "time: 72.3 ms (started: 2021-07-25 09:22:23 +00:00)\n"
     ]
    }
   ],
   "source": [
    "yellow_2015_2016_h1 = spark.sql(\"select * from raw.yellow_taxi_2015_2016_h1\")"
   ]
  },
  {
   "cell_type": "code",
   "execution_count": 11,
   "id": "0d62e775",
   "metadata": {},
   "outputs": [
    {
     "name": "stdout",
     "output_type": "stream",
     "text": [
      "root\n",
      " |-- vendor_id: string (nullable = true)\n",
      " |-- pickup_datetime: string (nullable = true)\n",
      " |-- dropoff_datetime: string (nullable = true)\n",
      " |-- passenger_count: string (nullable = true)\n",
      " |-- trip_distance: string (nullable = true)\n",
      " |-- pickup_longitude: string (nullable = true)\n",
      " |-- pickup_latitude: string (nullable = true)\n",
      " |-- rate_code: string (nullable = true)\n",
      " |-- store_and_fwd_flag: string (nullable = true)\n",
      " |-- dropoff_longitude: string (nullable = true)\n",
      " |-- dropoff_latitude: string (nullable = true)\n",
      " |-- payment_type: string (nullable = true)\n",
      " |-- fare_amount: string (nullable = true)\n",
      " |-- extra: string (nullable = true)\n",
      " |-- mta_tax: string (nullable = true)\n",
      " |-- tip_amount: string (nullable = true)\n",
      " |-- tolls_amount: string (nullable = true)\n",
      " |-- improvement_surcharge: string (nullable = true)\n",
      " |-- total_amount: string (nullable = true)\n",
      "\n",
      "time: 25.5 ms (started: 2021-07-25 09:22:23 +00:00)\n"
     ]
    }
   ],
   "source": [
    "yellow_2015_2016_h1 \\\n",
    "    .withColumnRenamed(\"VendorID\", \"vendor_id\") \\\n",
    "    .withColumnRenamed(\"tpep_pickup_datetime\", \"pickup_datetime\") \\\n",
    "    .withColumnRenamed(\"tpep_dropoff_datetime\", \"dropoff_datetime\") \\\n",
    "    .withColumnRenamed(\"RatecodeID\", \"rate_code\").printSchema()"
   ]
  },
  {
   "cell_type": "code",
   "execution_count": 29,
   "id": "24937b6e",
   "metadata": {},
   "outputs": [
    {
     "data": {
      "text/plain": [
       "[Row(database_description_item='Database Name', database_description_value='clean'),\n",
       " Row(database_description_item='Comment', database_description_value=''),\n",
       " Row(database_description_item='Location', database_description_value='s3a://storage/warehouse/clean'),\n",
       " Row(database_description_item='Owner', database_description_value='root')]"
      ]
     },
     "execution_count": 29,
     "metadata": {},
     "output_type": "execute_result"
    },
    {
     "name": "stdout",
     "output_type": "stream",
     "text": [
      "time: 11.6 ms (started: 2021-07-25 13:34:41 +00:00)\n"
     ]
    }
   ],
   "source": [
    "spark.sql(\"DESCRIBE DATABASE clean\").collect()"
   ]
  },
  {
   "cell_type": "code",
   "execution_count": 30,
   "id": "698213d1",
   "metadata": {},
   "outputs": [
    {
     "data": {
      "text/plain": [
       "[Row(database='clean', tableName='green_clean', isTemporary=False),\n",
       " Row(database='clean', tableName='yellow_clean', isTemporary=False)]"
      ]
     },
     "execution_count": 30,
     "metadata": {},
     "output_type": "execute_result"
    },
    {
     "name": "stdout",
     "output_type": "stream",
     "text": [
      "time: 23 ms (started: 2021-07-25 13:34:43 +00:00)\n"
     ]
    }
   ],
   "source": [
    "spark.sql(\"SHOW TABLES in clean\").collect()"
   ]
  },
  {
   "cell_type": "code",
   "execution_count": 31,
   "id": "2776de19",
   "metadata": {},
   "outputs": [
    {
     "data": {
      "text/plain": [
       "[Row(col_name='vendor_id', data_type='string', comment=''),\n",
       " Row(col_name='pickup_datetime', data_type='timestamp', comment=''),\n",
       " Row(col_name='dropoff_datetime', data_type='timestamp', comment=''),\n",
       " Row(col_name='passenger_count', data_type='int', comment=''),\n",
       " Row(col_name='trip_distance', data_type='float', comment=''),\n",
       " Row(col_name='pickup_longitude', data_type='float', comment=''),\n",
       " Row(col_name='pickup_latitude', data_type='float', comment=''),\n",
       " Row(col_name='rate_code', data_type='string', comment=''),\n",
       " Row(col_name='store_and_fwd_flag', data_type='string', comment=''),\n",
       " Row(col_name='dropoff_longitude', data_type='float', comment=''),\n",
       " Row(col_name='dropoff_latitude', data_type='float', comment=''),\n",
       " Row(col_name='payment_type', data_type='int', comment=''),\n",
       " Row(col_name='fare_amount', data_type='float', comment=''),\n",
       " Row(col_name='mta_tax', data_type='float', comment=''),\n",
       " Row(col_name='tip_amount', data_type='float', comment=''),\n",
       " Row(col_name='tolls_amount', data_type='float', comment=''),\n",
       " Row(col_name='total_amount', data_type='float', comment=''),\n",
       " Row(col_name='extra', data_type='string', comment=''),\n",
       " Row(col_name='improvement_surcharge', data_type='float', comment=''),\n",
       " Row(col_name='rate_code_id', data_type='string', comment=''),\n",
       " Row(col_name='pickup_year', data_type='int', comment=''),\n",
       " Row(col_name='pickup_month', data_type='int', comment=''),\n",
       " Row(col_name='', data_type='', comment=''),\n",
       " Row(col_name='# Partitioning', data_type='', comment=''),\n",
       " Row(col_name='Part 0', data_type='pickup_year', comment=''),\n",
       " Row(col_name='Part 1', data_type='pickup_month', comment='')]"
      ]
     },
     "execution_count": 31,
     "metadata": {},
     "output_type": "execute_result"
    },
    {
     "name": "stdout",
     "output_type": "stream",
     "text": [
      "time: 6.22 s (started: 2021-07-25 13:34:45 +00:00)\n"
     ]
    }
   ],
   "source": [
    "spark.sql(\"DESCRIBE TABLE clean.yellow_clean\").collect()"
   ]
  },
  {
   "cell_type": "code",
   "execution_count": 34,
   "id": "74290cae",
   "metadata": {},
   "outputs": [
    {
     "data": {
      "text/plain": [
       "[Row(database='clean', tableName='green_clean', isTemporary=False),\n",
       " Row(database='clean', tableName='yellow_clean', isTemporary=False)]"
      ]
     },
     "execution_count": 34,
     "metadata": {},
     "output_type": "execute_result"
    },
    {
     "name": "stdout",
     "output_type": "stream",
     "text": [
      "time: 14.8 ms (started: 2021-07-25 13:36:49 +00:00)\n"
     ]
    }
   ],
   "source": [
    "spark.sql(\"SHOW TABLES IN clean\").collect()"
   ]
  },
  {
   "cell_type": "code",
   "execution_count": 35,
   "id": "ad26e622",
   "metadata": {},
   "outputs": [
    {
     "data": {
      "text/plain": [
       "[]"
      ]
     },
     "execution_count": 35,
     "metadata": {},
     "output_type": "execute_result"
    },
    {
     "name": "stdout",
     "output_type": "stream",
     "text": [
      "time: 327 ms (started: 2021-07-25 13:37:01 +00:00)\n"
     ]
    }
   ],
   "source": [
    "#spark.sql(\"DROP TABLE clean.yellow_clean\").collect()"
   ]
  },
  {
   "cell_type": "code",
   "execution_count": 36,
   "id": "86d734c0",
   "metadata": {},
   "outputs": [
    {
     "data": {
      "text/plain": [
       "[Row(database='clean', tableName='green_clean', isTemporary=False)]"
      ]
     },
     "execution_count": 36,
     "metadata": {},
     "output_type": "execute_result"
    },
    {
     "name": "stdout",
     "output_type": "stream",
     "text": [
      "time: 14.3 ms (started: 2021-07-25 13:37:11 +00:00)\n"
     ]
    }
   ],
   "source": [
    "spark.sql(\"SHOW TABLES IN clean\").collect()"
   ]
  },
  {
   "cell_type": "code",
   "execution_count": 20,
   "id": "82c61939",
   "metadata": {},
   "outputs": [
    {
     "data": {
      "text/plain": [
       "[Row(col_name='vendor_id', data_type='string', comment=''),\n",
       " Row(col_name='pickup_datetime', data_type='string', comment=''),\n",
       " Row(col_name='dropoff_datetime', data_type='string', comment=''),\n",
       " Row(col_name='passenger_count', data_type='string', comment=''),\n",
       " Row(col_name='trip_distance', data_type='string', comment=''),\n",
       " Row(col_name='pickup_longitude', data_type='string', comment=''),\n",
       " Row(col_name='pickup_latitude', data_type='string', comment=''),\n",
       " Row(col_name='rate_code', data_type='string', comment=''),\n",
       " Row(col_name='store_and_fwd_flag', data_type='string', comment=''),\n",
       " Row(col_name='dropoff_longitude', data_type='string', comment=''),\n",
       " Row(col_name='dropoff_latitude', data_type='string', comment=''),\n",
       " Row(col_name='payment_type', data_type='string', comment=''),\n",
       " Row(col_name='fare_amount', data_type='string', comment=''),\n",
       " Row(col_name='surcharge', data_type='string', comment=''),\n",
       " Row(col_name='mta_tax', data_type='string', comment=''),\n",
       " Row(col_name='tip_amount', data_type='string', comment=''),\n",
       " Row(col_name='tolls_amount', data_type='string', comment=''),\n",
       " Row(col_name='total_amount', data_type='string', comment=''),\n",
       " Row(col_name='', data_type='', comment=''),\n",
       " Row(col_name='# Partitioning', data_type='', comment=''),\n",
       " Row(col_name='Not partitioned', data_type='', comment='')]"
      ]
     },
     "execution_count": 20,
     "metadata": {},
     "output_type": "execute_result"
    },
    {
     "name": "stdout",
     "output_type": "stream",
     "text": [
      "time: 45.6 ms (started: 2021-07-25 09:24:11 +00:00)\n"
     ]
    }
   ],
   "source": [
    "spark.sql(\"DESCRIBE TABLE raw.yellow_merged\").collect()"
   ]
  },
  {
   "cell_type": "markdown",
   "id": "cb6ed9f4",
   "metadata": {},
   "source": [
    "# Check issues with certain datasets"
   ]
  },
  {
   "cell_type": "code",
   "execution_count": 22,
   "id": "2326f4b3",
   "metadata": {},
   "outputs": [
    {
     "data": {
      "text/plain": [
       "[Row(database='clean', tableName='green_clean', isTemporary=False),\n",
       " Row(database='clean', tableName='yellow_clean', isTemporary=False)]"
      ]
     },
     "execution_count": 22,
     "metadata": {},
     "output_type": "execute_result"
    },
    {
     "name": "stdout",
     "output_type": "stream",
     "text": [
      "time: 14 ms (started: 2021-07-25 14:21:49 +00:00)\n"
     ]
    }
   ],
   "source": [
    "spark.sql(\"SHOW TABLES in clean\").collect()"
   ]
  },
  {
   "cell_type": "code",
   "execution_count": 21,
   "id": "3757c50e",
   "metadata": {},
   "outputs": [
    {
     "data": {
      "text/plain": [
       "[Row(col_name='VendorID', data_type='string', comment=''),\n",
       " Row(col_name='pickup_datetime', data_type='string', comment=''),\n",
       " Row(col_name='dropoff_datetime', data_type='string', comment=''),\n",
       " Row(col_name='Store_and_fwd_flag', data_type='string', comment=''),\n",
       " Row(col_name='RateCodeID', data_type='string', comment=''),\n",
       " Row(col_name='Pickup_longitude', data_type='string', comment=''),\n",
       " Row(col_name='Pickup_latitude', data_type='string', comment=''),\n",
       " Row(col_name='Dropoff_longitude', data_type='string', comment=''),\n",
       " Row(col_name='Dropoff_latitude', data_type='string', comment=''),\n",
       " Row(col_name='Passenger_count', data_type='string', comment=''),\n",
       " Row(col_name='Trip_distance', data_type='string', comment=''),\n",
       " Row(col_name='Fare_amount', data_type='string', comment=''),\n",
       " Row(col_name='Extra', data_type='string', comment=''),\n",
       " Row(col_name='MTA_tax', data_type='string', comment=''),\n",
       " Row(col_name='Tip_amount', data_type='string', comment=''),\n",
       " Row(col_name='Tolls_amount', data_type='string', comment=''),\n",
       " Row(col_name='Ehail_fee', data_type='string', comment=''),\n",
       " Row(col_name='Total_amount', data_type='string', comment=''),\n",
       " Row(col_name='Payment_type', data_type='string', comment=''),\n",
       " Row(col_name='trip_type', data_type='string', comment=''),\n",
       " Row(col_name='improvement_surcharge', data_type='string', comment=''),\n",
       " Row(col_name='', data_type='', comment=''),\n",
       " Row(col_name='# Partitioning', data_type='', comment=''),\n",
       " Row(col_name='Not partitioned', data_type='', comment='')]"
      ]
     },
     "execution_count": 21,
     "metadata": {},
     "output_type": "execute_result"
    },
    {
     "name": "stdout",
     "output_type": "stream",
     "text": [
      "time: 55.9 ms (started: 2021-07-25 14:21:15 +00:00)\n"
     ]
    }
   ],
   "source": [
    "spark.sql(\"DESCRIBE TABLE raw.green_merged\").collect()"
   ]
  },
  {
   "cell_type": "code",
   "execution_count": 26,
   "id": "b8b06da7",
   "metadata": {},
   "outputs": [
    {
     "name": "stdout",
     "output_type": "stream",
     "text": [
      "time: 47.7 ms (started: 2021-07-25 14:24:20 +00:00)\n"
     ]
    }
   ],
   "source": [
    "yellow_raw = spark.sql(\"\"\"\n",
    "        SELECT * FROM clean.green_clean \n",
    "        WHERE pickup_datetime > '2014-12-01'\n",
    "        AND pickup_datetime < '2015-09-01'\n",
    "    \"\"\")"
   ]
  },
  {
   "cell_type": "code",
   "execution_count": 27,
   "id": "cf223d6d",
   "metadata": {},
   "outputs": [
    {
     "data": {
      "text/plain": [
       "[Row(pickup_date=datetime.date(2015, 2, 10), count(pickup_date)=45711),\n",
       " Row(pickup_date=datetime.date(2015, 2, 13), count(pickup_date)=70191),\n",
       " Row(pickup_date=datetime.date(2015, 6, 9), count(pickup_date)=45376),\n",
       " Row(pickup_date=datetime.date(2015, 6, 12), count(pickup_date)=62623),\n",
       " Row(pickup_date=datetime.date(2015, 6, 13), count(pickup_date)=69740),\n",
       " Row(pickup_date=datetime.date(2015, 7, 15), count(pickup_date)=44259),\n",
       " Row(pickup_date=datetime.date(2014, 12, 5), count(pickup_date)=64589),\n",
       " Row(pickup_date=datetime.date(2014, 12, 8), count(pickup_date)=46172),\n",
       " Row(pickup_date=datetime.date(2014, 12, 12), count(pickup_date)=64914),\n",
       " Row(pickup_date=datetime.date(2015, 7, 20), count(pickup_date)=43366)]"
      ]
     },
     "execution_count": 27,
     "metadata": {},
     "output_type": "execute_result"
    },
    {
     "name": "stdout",
     "output_type": "stream",
     "text": [
      "time: 1.47 s (started: 2021-07-25 14:24:21 +00:00)\n"
     ]
    }
   ],
   "source": [
    "(yellow_raw\n",
    "     .withColumn(\"pickup_date\", F.to_date(F.col(\"pickup_datetime\"), \"MM-dd-yyyy\"))\n",
    "     .groupBy(\"pickup_date\")\n",
    "     .agg(F.count(\"pickup_date\"))\n",
    ").take(10)"
   ]
  },
  {
   "cell_type": "code",
   "execution_count": 28,
   "id": "5bb73123",
   "metadata": {},
   "outputs": [
    {
     "name": "stdout",
     "output_type": "stream",
     "text": [
      "time: 98.7 ms (started: 2021-07-26 01:19:30 +00:00)\n"
     ]
    }
   ],
   "source": [
    "spark.stop()"
   ]
  }
 ],
 "metadata": {
  "kernelspec": {
   "display_name": "Python [conda env:spark]",
   "language": "python",
   "name": "conda-env-spark-py"
  },
  "language_info": {
   "codemirror_mode": {
    "name": "ipython",
    "version": 3
   },
   "file_extension": ".py",
   "mimetype": "text/x-python",
   "name": "python",
   "nbconvert_exporter": "python",
   "pygments_lexer": "ipython3",
   "version": "3.8.10"
  }
 },
 "nbformat": 4,
 "nbformat_minor": 5
}
